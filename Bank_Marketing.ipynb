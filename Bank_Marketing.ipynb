{
 "cells": [
  {
   "cell_type": "code",
   "execution_count": 1,
   "metadata": {},
   "outputs": [],
   "source": [
    "import pandas as pd\n",
    "import seaborn as sns\n",
    "import numpy as np\n",
    "import matplotlib.pyplot as plt\n",
    "from scipy.stats import t\n",
    "import scipy.stats\n",
    "import warnings\n",
    "warnings.simplefilter(action='ignore', category=FutureWarning)\n",
    "from sklearn.utils import resample\n",
    "from sklearn.decomposition import PCA\n",
    "from sklearn.preprocessing import StandardScaler\n",
    "from sklearn.pipeline import make_pipeline\n",
    "from sklearn.metrics import recall_score\n",
    "\n",
    "from sklearn.model_selection import train_test_split\n",
    "\n",
    "from sklearn.model_selection import StratifiedKFold\n",
    "from sklearn.model_selection import cross_val_score\n",
    "from sklearn.model_selection import cross_validate\n",
    "from sklearn.metrics import confusion_matrix, accuracy_score, make_scorer\n",
    "\n",
    "from sklearn.linear_model import LogisticRegression\n",
    "\n",
    "from sklearn import model_selection\n",
    "from sklearn.neighbors import KNeighborsClassifier\n",
    "from sklearn.svm import SVC\n",
    "from sklearn.tree import DecisionTreeClassifier\n",
    "from sklearn.ensemble import RandomForestClassifier\n",
    "from xgboost import XGBClassifier\n",
    "from sklearn.ensemble import GradientBoostingClassifier\n",
    "\n"
   ]
  },
  {
   "cell_type": "code",
   "execution_count": 2,
   "metadata": {},
   "outputs": [],
   "source": [
    "data = pd.read_csv('bank/bank-full.csv', delimiter = ';')"
   ]
  },
  {
   "cell_type": "code",
   "execution_count": 3,
   "metadata": {
    "scrolled": true
   },
   "outputs": [
    {
     "data": {
      "text/html": [
       "<div>\n",
       "<style scoped>\n",
       "    .dataframe tbody tr th:only-of-type {\n",
       "        vertical-align: middle;\n",
       "    }\n",
       "\n",
       "    .dataframe tbody tr th {\n",
       "        vertical-align: top;\n",
       "    }\n",
       "\n",
       "    .dataframe thead th {\n",
       "        text-align: right;\n",
       "    }\n",
       "</style>\n",
       "<table border=\"1\" class=\"dataframe\">\n",
       "  <thead>\n",
       "    <tr style=\"text-align: right;\">\n",
       "      <th></th>\n",
       "      <th>age</th>\n",
       "      <th>job</th>\n",
       "      <th>marital</th>\n",
       "      <th>education</th>\n",
       "      <th>default</th>\n",
       "      <th>balance</th>\n",
       "      <th>housing</th>\n",
       "      <th>loan</th>\n",
       "      <th>contact</th>\n",
       "      <th>day</th>\n",
       "      <th>month</th>\n",
       "      <th>duration</th>\n",
       "      <th>campaign</th>\n",
       "      <th>pdays</th>\n",
       "      <th>previous</th>\n",
       "      <th>poutcome</th>\n",
       "      <th>y</th>\n",
       "    </tr>\n",
       "  </thead>\n",
       "  <tbody>\n",
       "    <tr>\n",
       "      <td>0</td>\n",
       "      <td>58</td>\n",
       "      <td>management</td>\n",
       "      <td>married</td>\n",
       "      <td>tertiary</td>\n",
       "      <td>no</td>\n",
       "      <td>2143</td>\n",
       "      <td>yes</td>\n",
       "      <td>no</td>\n",
       "      <td>unknown</td>\n",
       "      <td>5</td>\n",
       "      <td>may</td>\n",
       "      <td>261</td>\n",
       "      <td>1</td>\n",
       "      <td>-1</td>\n",
       "      <td>0</td>\n",
       "      <td>unknown</td>\n",
       "      <td>no</td>\n",
       "    </tr>\n",
       "    <tr>\n",
       "      <td>1</td>\n",
       "      <td>44</td>\n",
       "      <td>technician</td>\n",
       "      <td>single</td>\n",
       "      <td>secondary</td>\n",
       "      <td>no</td>\n",
       "      <td>29</td>\n",
       "      <td>yes</td>\n",
       "      <td>no</td>\n",
       "      <td>unknown</td>\n",
       "      <td>5</td>\n",
       "      <td>may</td>\n",
       "      <td>151</td>\n",
       "      <td>1</td>\n",
       "      <td>-1</td>\n",
       "      <td>0</td>\n",
       "      <td>unknown</td>\n",
       "      <td>no</td>\n",
       "    </tr>\n",
       "    <tr>\n",
       "      <td>2</td>\n",
       "      <td>33</td>\n",
       "      <td>entrepreneur</td>\n",
       "      <td>married</td>\n",
       "      <td>secondary</td>\n",
       "      <td>no</td>\n",
       "      <td>2</td>\n",
       "      <td>yes</td>\n",
       "      <td>yes</td>\n",
       "      <td>unknown</td>\n",
       "      <td>5</td>\n",
       "      <td>may</td>\n",
       "      <td>76</td>\n",
       "      <td>1</td>\n",
       "      <td>-1</td>\n",
       "      <td>0</td>\n",
       "      <td>unknown</td>\n",
       "      <td>no</td>\n",
       "    </tr>\n",
       "    <tr>\n",
       "      <td>3</td>\n",
       "      <td>47</td>\n",
       "      <td>blue-collar</td>\n",
       "      <td>married</td>\n",
       "      <td>unknown</td>\n",
       "      <td>no</td>\n",
       "      <td>1506</td>\n",
       "      <td>yes</td>\n",
       "      <td>no</td>\n",
       "      <td>unknown</td>\n",
       "      <td>5</td>\n",
       "      <td>may</td>\n",
       "      <td>92</td>\n",
       "      <td>1</td>\n",
       "      <td>-1</td>\n",
       "      <td>0</td>\n",
       "      <td>unknown</td>\n",
       "      <td>no</td>\n",
       "    </tr>\n",
       "    <tr>\n",
       "      <td>4</td>\n",
       "      <td>33</td>\n",
       "      <td>unknown</td>\n",
       "      <td>single</td>\n",
       "      <td>unknown</td>\n",
       "      <td>no</td>\n",
       "      <td>1</td>\n",
       "      <td>no</td>\n",
       "      <td>no</td>\n",
       "      <td>unknown</td>\n",
       "      <td>5</td>\n",
       "      <td>may</td>\n",
       "      <td>198</td>\n",
       "      <td>1</td>\n",
       "      <td>-1</td>\n",
       "      <td>0</td>\n",
       "      <td>unknown</td>\n",
       "      <td>no</td>\n",
       "    </tr>\n",
       "  </tbody>\n",
       "</table>\n",
       "</div>"
      ],
      "text/plain": [
       "   age           job  marital  education default  balance housing loan  \\\n",
       "0   58    management  married   tertiary      no     2143     yes   no   \n",
       "1   44    technician   single  secondary      no       29     yes   no   \n",
       "2   33  entrepreneur  married  secondary      no        2     yes  yes   \n",
       "3   47   blue-collar  married    unknown      no     1506     yes   no   \n",
       "4   33       unknown   single    unknown      no        1      no   no   \n",
       "\n",
       "   contact  day month  duration  campaign  pdays  previous poutcome   y  \n",
       "0  unknown    5   may       261         1     -1         0  unknown  no  \n",
       "1  unknown    5   may       151         1     -1         0  unknown  no  \n",
       "2  unknown    5   may        76         1     -1         0  unknown  no  \n",
       "3  unknown    5   may        92         1     -1         0  unknown  no  \n",
       "4  unknown    5   may       198         1     -1         0  unknown  no  "
      ]
     },
     "execution_count": 3,
     "metadata": {},
     "output_type": "execute_result"
    }
   ],
   "source": [
    "data.head()"
   ]
  },
  {
   "cell_type": "code",
   "execution_count": 4,
   "metadata": {},
   "outputs": [
    {
     "data": {
      "text/html": [
       "<div>\n",
       "<style scoped>\n",
       "    .dataframe tbody tr th:only-of-type {\n",
       "        vertical-align: middle;\n",
       "    }\n",
       "\n",
       "    .dataframe tbody tr th {\n",
       "        vertical-align: top;\n",
       "    }\n",
       "\n",
       "    .dataframe thead th {\n",
       "        text-align: right;\n",
       "    }\n",
       "</style>\n",
       "<table border=\"1\" class=\"dataframe\">\n",
       "  <thead>\n",
       "    <tr style=\"text-align: right;\">\n",
       "      <th></th>\n",
       "      <th>age</th>\n",
       "      <th>balance</th>\n",
       "      <th>day</th>\n",
       "      <th>duration</th>\n",
       "      <th>campaign</th>\n",
       "      <th>pdays</th>\n",
       "      <th>previous</th>\n",
       "    </tr>\n",
       "  </thead>\n",
       "  <tbody>\n",
       "    <tr>\n",
       "      <td>count</td>\n",
       "      <td>45211.000000</td>\n",
       "      <td>45211.000000</td>\n",
       "      <td>45211.000000</td>\n",
       "      <td>45211.000000</td>\n",
       "      <td>45211.000000</td>\n",
       "      <td>45211.000000</td>\n",
       "      <td>45211.000000</td>\n",
       "    </tr>\n",
       "    <tr>\n",
       "      <td>mean</td>\n",
       "      <td>40.936210</td>\n",
       "      <td>1362.272058</td>\n",
       "      <td>15.806419</td>\n",
       "      <td>258.163080</td>\n",
       "      <td>2.763841</td>\n",
       "      <td>40.197828</td>\n",
       "      <td>0.580323</td>\n",
       "    </tr>\n",
       "    <tr>\n",
       "      <td>std</td>\n",
       "      <td>10.618762</td>\n",
       "      <td>3044.765829</td>\n",
       "      <td>8.322476</td>\n",
       "      <td>257.527812</td>\n",
       "      <td>3.098021</td>\n",
       "      <td>100.128746</td>\n",
       "      <td>2.303441</td>\n",
       "    </tr>\n",
       "    <tr>\n",
       "      <td>min</td>\n",
       "      <td>18.000000</td>\n",
       "      <td>-8019.000000</td>\n",
       "      <td>1.000000</td>\n",
       "      <td>0.000000</td>\n",
       "      <td>1.000000</td>\n",
       "      <td>-1.000000</td>\n",
       "      <td>0.000000</td>\n",
       "    </tr>\n",
       "    <tr>\n",
       "      <td>25%</td>\n",
       "      <td>33.000000</td>\n",
       "      <td>72.000000</td>\n",
       "      <td>8.000000</td>\n",
       "      <td>103.000000</td>\n",
       "      <td>1.000000</td>\n",
       "      <td>-1.000000</td>\n",
       "      <td>0.000000</td>\n",
       "    </tr>\n",
       "    <tr>\n",
       "      <td>50%</td>\n",
       "      <td>39.000000</td>\n",
       "      <td>448.000000</td>\n",
       "      <td>16.000000</td>\n",
       "      <td>180.000000</td>\n",
       "      <td>2.000000</td>\n",
       "      <td>-1.000000</td>\n",
       "      <td>0.000000</td>\n",
       "    </tr>\n",
       "    <tr>\n",
       "      <td>75%</td>\n",
       "      <td>48.000000</td>\n",
       "      <td>1428.000000</td>\n",
       "      <td>21.000000</td>\n",
       "      <td>319.000000</td>\n",
       "      <td>3.000000</td>\n",
       "      <td>-1.000000</td>\n",
       "      <td>0.000000</td>\n",
       "    </tr>\n",
       "    <tr>\n",
       "      <td>max</td>\n",
       "      <td>95.000000</td>\n",
       "      <td>102127.000000</td>\n",
       "      <td>31.000000</td>\n",
       "      <td>4918.000000</td>\n",
       "      <td>63.000000</td>\n",
       "      <td>871.000000</td>\n",
       "      <td>275.000000</td>\n",
       "    </tr>\n",
       "  </tbody>\n",
       "</table>\n",
       "</div>"
      ],
      "text/plain": [
       "                age        balance           day      duration      campaign  \\\n",
       "count  45211.000000   45211.000000  45211.000000  45211.000000  45211.000000   \n",
       "mean      40.936210    1362.272058     15.806419    258.163080      2.763841   \n",
       "std       10.618762    3044.765829      8.322476    257.527812      3.098021   \n",
       "min       18.000000   -8019.000000      1.000000      0.000000      1.000000   \n",
       "25%       33.000000      72.000000      8.000000    103.000000      1.000000   \n",
       "50%       39.000000     448.000000     16.000000    180.000000      2.000000   \n",
       "75%       48.000000    1428.000000     21.000000    319.000000      3.000000   \n",
       "max       95.000000  102127.000000     31.000000   4918.000000     63.000000   \n",
       "\n",
       "              pdays      previous  \n",
       "count  45211.000000  45211.000000  \n",
       "mean      40.197828      0.580323  \n",
       "std      100.128746      2.303441  \n",
       "min       -1.000000      0.000000  \n",
       "25%       -1.000000      0.000000  \n",
       "50%       -1.000000      0.000000  \n",
       "75%       -1.000000      0.000000  \n",
       "max      871.000000    275.000000  "
      ]
     },
     "execution_count": 4,
     "metadata": {},
     "output_type": "execute_result"
    }
   ],
   "source": [
    "data.describe()"
   ]
  },
  {
   "cell_type": "code",
   "execution_count": 5,
   "metadata": {},
   "outputs": [
    {
     "name": "stdout",
     "output_type": "stream",
     "text": [
      "<class 'pandas.core.frame.DataFrame'>\n",
      "RangeIndex: 45211 entries, 0 to 45210\n",
      "Data columns (total 17 columns):\n",
      "age          45211 non-null int64\n",
      "job          45211 non-null object\n",
      "marital      45211 non-null object\n",
      "education    45211 non-null object\n",
      "default      45211 non-null object\n",
      "balance      45211 non-null int64\n",
      "housing      45211 non-null object\n",
      "loan         45211 non-null object\n",
      "contact      45211 non-null object\n",
      "day          45211 non-null int64\n",
      "month        45211 non-null object\n",
      "duration     45211 non-null int64\n",
      "campaign     45211 non-null int64\n",
      "pdays        45211 non-null int64\n",
      "previous     45211 non-null int64\n",
      "poutcome     45211 non-null object\n",
      "y            45211 non-null object\n",
      "dtypes: int64(7), object(10)\n",
      "memory usage: 5.9+ MB\n"
     ]
    }
   ],
   "source": [
    "data.info()"
   ]
  },
  {
   "cell_type": "code",
   "execution_count": 6,
   "metadata": {},
   "outputs": [
    {
     "data": {
      "text/plain": [
       "age          0\n",
       "job          0\n",
       "marital      0\n",
       "education    0\n",
       "default      0\n",
       "balance      0\n",
       "housing      0\n",
       "loan         0\n",
       "contact      0\n",
       "day          0\n",
       "month        0\n",
       "duration     0\n",
       "campaign     0\n",
       "pdays        0\n",
       "previous     0\n",
       "poutcome     0\n",
       "y            0\n",
       "dtype: int64"
      ]
     },
     "execution_count": 6,
     "metadata": {},
     "output_type": "execute_result"
    }
   ],
   "source": [
    "# Check if the data set contains any null values - Nothing found!\n",
    "data[data.isnull().any(axis=1)].count()"
   ]
  },
  {
   "cell_type": "markdown",
   "metadata": {},
   "source": [
    "## Knowing the categorical variables"
   ]
  },
  {
   "cell_type": "code",
   "execution_count": 7,
   "metadata": {},
   "outputs": [
    {
     "name": "stdout",
     "output_type": "stream",
     "text": [
      "Jobs :  ['management' 'technician' 'entrepreneur' 'blue-collar' 'unknown'\n",
      " 'retired' 'admin.' 'services' 'self-employed' 'unemployed' 'housemaid'\n",
      " 'student']\n",
      "Marital :  ['married' 'single' 'divorced']\n",
      "Education :  ['tertiary' 'secondary' 'unknown' 'primary']\n",
      "Default :  ['no' 'yes']\n",
      "Housing :  ['yes' 'no']\n",
      "Loans :  ['no' 'yes']\n",
      "Contact :  ['unknown' 'cellular' 'telephone']\n",
      "Month :  ['may' 'jun' 'jul' 'aug' 'oct' 'nov' 'dec' 'jan' 'feb' 'mar' 'apr' 'sep']\n",
      "Poutcome :  ['unknown' 'failure' 'other' 'success']\n",
      "y :  ['no' 'yes']\n"
     ]
    }
   ],
   "source": [
    "print(\"Jobs : \", data.job.unique())\n",
    "print(\"Marital : \", data.marital.unique())\n",
    "print(\"Education : \", data.education.unique())\n",
    "print(\"Default : \", data.default.unique())\n",
    "print(\"Housing : \", data.housing.unique())\n",
    "print(\"Loans : \", data.loan.unique())\n",
    "print(\"Contact : \", data.contact.unique())\n",
    "print(\"Month : \", data.month.unique())\n",
    "print(\"Poutcome : \", data.poutcome.unique())\n",
    "print(\"y : \", data.y.unique())"
   ]
  },
  {
   "cell_type": "markdown",
   "metadata": {},
   "source": [
    "## Knowing the numerical variables"
   ]
  },
  {
   "cell_type": "markdown",
   "metadata": {},
   "source": [
    "## AGE"
   ]
  },
  {
   "cell_type": "code",
   "execution_count": 8,
   "metadata": {},
   "outputs": [
    {
     "name": "stdout",
     "output_type": "stream",
     "text": [
      "Min age:  95\n",
      "Max age:  18\n",
      "Null Values:  False\n"
     ]
    }
   ],
   "source": [
    "#Trying to find some strange values or null values\n",
    "print('Min age: ', data['age'].max())\n",
    "print('Max age: ', data['age'].min())\n",
    "print('Null Values: ', data['age'].isnull().any())"
   ]
  },
  {
   "cell_type": "code",
   "execution_count": 9,
   "metadata": {},
   "outputs": [
    {
     "data": {
      "image/png": "[encoded data removed]",
      "text/plain": [
       "<Figure size 1440x360 with 1 Axes>"
      ]
     },
     "metadata": {
      "needs_background": "light"
     },
     "output_type": "display_data"
    }
   ],
   "source": [
    "fig, ax = plt.subplots()\n",
    "fig.set_size_inches(20, 5)\n",
    "sns.countplot(x = 'age', data = data)\n",
    "ax.set_xlabel('Age', fontsize=15)\n",
    "ax.set_ylabel('Count', fontsize=15)\n",
    "ax.set_title('Age Count Distribution', fontsize=15)\n",
    "sns.despine()"
   ]
  },
  {
   "cell_type": "code",
   "execution_count": 216,
   "metadata": {},
   "outputs": [
    {
     "data": {
      "image/png": "[encoded data removed]",
      "text/plain": [
       "<Figure size 1440x360 with 1 Axes>"
      ]
     },
     "metadata": {
      "needs_background": "light"
     },
     "output_type": "display_data"
    }
   ],
   "source": [
    "_ = pd.crosstab(data.age, data.y)\n",
    "_.div(_.sum(1).astype(float), axis=0).plot(kind='bar', stacked=True, color=['deepskyblue','steelblue'],grid=False, figsize=(20, 5))\n",
    "plt.title('Normalized Stacked Bar Plot')\n",
    "plt.show()"
   ]
  },
  {
   "cell_type": "code",
   "execution_count": 11,
   "metadata": {},
   "outputs": [
    {
     "data": {
      "image/png": "[encoded data removed]",
      "text/plain": [
       "<Figure size 432x288 with 1 Axes>"
      ]
     },
     "metadata": {
      "needs_background": "light"
     },
     "output_type": "display_data"
    }
   ],
   "source": [
    "#Histogram of age parameter\n",
    "_ = plt.hist(data.age,bins=15)\n",
    "_ = plt.xlabel('Age')\n",
    "_ = plt.ylabel('No. of people')\n",
    "_ = plt.title('Histogram of age')\n",
    "plt.show()"
   ]
  },
  {
   "cell_type": "code",
   "execution_count": 12,
   "metadata": {},
   "outputs": [
    {
     "data": {
      "image/png": "[encoded data removed]",
      "text/plain": [
       "<Figure size 432x288 with 1 Axes>"
      ]
     },
     "metadata": {
      "needs_background": "light"
     },
     "output_type": "display_data"
    }
   ],
   "source": [
    "#Boxplot of age\n",
    "_ = plt.boxplot(data.age)\n",
    "_ = plt.ylabel('Age')\n",
    "_ = plt.title('Boxplot of age')\n",
    "plt.show()"
   ]
  },
  {
   "cell_type": "code",
   "execution_count": 13,
   "metadata": {},
   "outputs": [
    {
     "name": "stdout",
     "output_type": "stream",
     "text": [
      "1º Quartile:  33.0\n",
      "2º Quartile:  39.0\n",
      "3º Quartile:  48.0\n",
      "4º Quartile:  95.0\n",
      "Ages above:  70.5 are outliers\n"
     ]
    }
   ],
   "source": [
    "print('1º Quartile: ', data['age'].quantile(q = 0.25))\n",
    "print('2º Quartile: ', data['age'].quantile(q = 0.50))\n",
    "print('3º Quartile: ', data['age'].quantile(q = 0.75))\n",
    "print('4º Quartile: ', data['age'].quantile(q = 1.00))\n",
    "#Calculate the outliers:\n",
    "  # Interquartile range, IQR = Q3 - Q1\n",
    "  # lower 1.5*IQR whisker = Q1 - 1.5 * IQR \n",
    "  # Upper 1.5*IQR whisker = Q3 + 1.5 * IQR\n",
    "    \n",
    "print('Ages above: ', data['age'].quantile(q = 0.75) + \n",
    "                      1.5*(data['age'].quantile(q = 0.75) - data['age'].quantile(q = 0.25)), 'are outliers')"
   ]
  },
  {
   "cell_type": "code",
   "execution_count": 14,
   "metadata": {},
   "outputs": [
    {
     "name": "stdout",
     "output_type": "stream",
     "text": [
      "Numerber of outliers:  487\n",
      "Number of clients:  45211\n",
      "Outliers are: 1.08 %\n"
     ]
    }
   ],
   "source": [
    "print('Numerber of outliers: ', data[data['age'] > 70.5]['age'].count())\n",
    "print('Number of clients: ', len(data))\n",
    "#Outliers in %\n",
    "print('Outliers are:', round(data[data['age'] > 70.5]['age'].count()*100/len(data),2), '%')"
   ]
  },
  {
   "cell_type": "code",
   "execution_count": 15,
   "metadata": {},
   "outputs": [
    {
     "name": "stdout",
     "output_type": "stream",
     "text": [
      "MEAN: 40.93621021432837\n",
      "STD : 10.618762040975431\n"
     ]
    }
   ],
   "source": [
    "# Calculating some values to evaluate this variable\n",
    "print('MEAN:', data['age'].mean())\n",
    "# A low standard deviation indicates that the data points tend to be close to the mean or expected value\n",
    "# A high standard deviation indicates that the data points are scattered\n",
    "print('STD :', data['age'].std())"
   ]
  },
  {
   "cell_type": "code",
   "execution_count": 16,
   "metadata": {},
   "outputs": [
    {
     "name": "stdout",
     "output_type": "stream",
     "text": [
      "Category 1 : Customers who subscribed to term deposit\n",
      "Category 2 : Customers who did not subscribe to term deposit\n",
      "\n",
      "Null hypothesis : The mean age of Category 1 is equal to the mean age of Category 2\n",
      "Alternate hypothesis : The mean age of category 1 is not equal to the mean age of category 2 (i.e. they are close to each other by chance)\n"
     ]
    }
   ],
   "source": [
    "age_yes = data.age[data.y == 'yes']\n",
    "age_no = data.age[data.y == 'no']\n",
    "\n",
    "print(\"Category 1 : Customers who subscribed to term deposit\\nCategory 2 : Customers who did not subscribe to term deposit\\n\")\n",
    "print(\"Null hypothesis : The mean age of Category 1 is equal to the mean age of Category 2\")\n",
    "print(\"Alternate hypothesis : The mean age of category 1 is not equal to the mean age of category 2 (i.e. they are close to each other by chance)\")"
   ]
  },
  {
   "cell_type": "code",
   "execution_count": 17,
   "metadata": {},
   "outputs": [
    {
     "name": "stdout",
     "output_type": "stream",
     "text": [
      "Mean age for customers who subscribed for term deposit : 41.670069956513515\n",
      "95% Confidence interval for mean age of customers who subscribed for term deposit : \n",
      " [41.3062193392251, 42.03392057380193]\n",
      "\n",
      "Mean age for customers who did not subscribe for term deposit : 40.83898602274435\n",
      "95% Confidence interval for mean age of customers who didn't subscribe for term deposit : \n",
      " [40.73919540015151, 40.93877664533719]\n",
      "\n",
      "T-test statistic :  4.3183175911673475 \n",
      "P-value :  1.597104674376039e-05\n",
      "\n",
      "Since the p-value is very small, Null hypothesis is rejected, Alternate hypothesis holds true\n",
      "Alternate hypothesis : The mean age of category 1 is not equal to the mean age of category 2 (i.e. they are close by chance)\n"
     ]
    }
   ],
   "source": [
    "mean_age_yes = np.mean(age_yes)\n",
    "mean_age_no = np.mean(age_no)\n",
    "std_age_yes = np.std(age_yes, ddof=1)\n",
    "std_age_no = np.std(age_no, ddof=1)\n",
    "length_age_yes = len(age_yes)\n",
    "length_age_no = len(age_no)\n",
    "\n",
    "#Calculating the 95% confidence interval for Category 1 and Category 2\n",
    "\n",
    "print(\"Mean age for customers who subscribed for term deposit :\", mean_age_yes)\n",
    "\n",
    "critical_value_yes = t.ppf(0.975, df = length_age_yes - 1)\n",
    "m_o_err_yes =  critical_value_yes * (std_age_yes/ np.sqrt(length_age_yes))\n",
    "confidence_intrvl_yes = [mean_age_yes - m_o_err_yes, mean_age_yes + m_o_err_yes]\n",
    "print(\"95% Confidence interval for mean age of customers who subscribed for term deposit : \\n\", confidence_intrvl_yes)\n",
    "\n",
    "\n",
    "print(\"\\nMean age for customers who did not subscribe for term deposit :\", mean_age_no)\n",
    "\n",
    "critical_value_no = t.ppf(0.975, df = length_age_no - 1)\n",
    "m_o_err_no =  critical_value_no * (std_age_no/ np.sqrt(length_age_no))\n",
    "confidence_intrvl_no = [mean_age_no - m_o_err_no, mean_age_no + m_o_err_no]\n",
    "print(\"95% Confidence interval for mean age of customers who didn't subscribe for term deposit : \\n\", confidence_intrvl_no)\n",
    "\n",
    "#Using scipy.stats, function to perform a t-test on two independent samples\n",
    "t_test, p_value = scipy.stats.ttest_ind(age_yes, age_no, equal_var=False)\n",
    "print(\"\\nT-test statistic : \",t_test, \"\\nP-value : \", p_value)\n",
    "\n",
    "print(\"\\nSince the p-value is very small, Null hypothesis is rejected, Alternate hypothesis holds true\")\n",
    "print(\"Alternate hypothesis : The mean age of category 1 is not equal to the mean age of category 2 (i.e. they are close by chance)\")"
   ]
  },
  {
   "cell_type": "code",
   "execution_count": null,
   "metadata": {},
   "outputs": [],
   "source": []
  },
  {
   "cell_type": "code",
   "execution_count": null,
   "metadata": {},
   "outputs": [],
   "source": []
  },
  {
   "cell_type": "code",
   "execution_count": null,
   "metadata": {},
   "outputs": [],
   "source": []
  },
  {
   "cell_type": "markdown",
   "metadata": {},
   "source": [
    "## Job"
   ]
  },
  {
   "cell_type": "code",
   "execution_count": 18,
   "metadata": {
    "scrolled": true
   },
   "outputs": [
    {
     "data": {
      "image/png": "[encoded data removed]",
      "text/plain": [
       "<Figure size 1800x360 with 1 Axes>"
      ]
     },
     "metadata": {
      "needs_background": "light"
     },
     "output_type": "display_data"
    }
   ],
   "source": [
    "# What kind of jobs do the clients of this bank have\n",
    "fig, ax = plt.subplots()\n",
    "fig.set_size_inches(25, 5)\n",
    "sns.countplot(x = 'job', data = data)\n",
    "ax.set_xlabel('Job', fontsize=15)\n",
    "ax.set_ylabel('Count', fontsize=15)\n",
    "ax.set_title('Age Count Distribution', fontsize=15)\n",
    "ax.tick_params(labelsize=15)\n",
    "sns.despine()"
   ]
  },
  {
   "cell_type": "code",
   "execution_count": 217,
   "metadata": {},
   "outputs": [
    {
     "data": {
      "image/png": "[encoded data removed]",
      "text/plain": [
       "<Figure size 1080x360 with 1 Axes>"
      ]
     },
     "metadata": {
      "needs_background": "light"
     },
     "output_type": "display_data"
    }
   ],
   "source": [
    "_ = pd.crosstab(data.job, data.y)\n",
    "_.div(_.sum(1).astype(float), axis=0).plot(kind='bar', stacked=True, color=['deepskyblue','steelblue'],grid=False, figsize=(15, 5))\n",
    "plt.title('Normalized Stacked Bar Plot')\n",
    "plt.show()"
   ]
  },
  {
   "cell_type": "markdown",
   "metadata": {},
   "source": [
    "## Marital"
   ]
  },
  {
   "cell_type": "code",
   "execution_count": 230,
   "metadata": {},
   "outputs": [
    {
     "data": {
      "image/png": "[encoded data removed]",
      "text/plain": [
       "<Figure size 360x432 with 1 Axes>"
      ]
     },
     "metadata": {
      "needs_background": "light"
     },
     "output_type": "display_data"
    }
   ],
   "source": [
    "# What kind of 'marital clients' this bank have\n",
    "fig, ax = plt.subplots()\n",
    "fig.set_size_inches(5, 6)\n",
    "sns.countplot(x = 'marital', data = data)\n",
    "ax.set_xlabel('Marital', fontsize=15)\n",
    "ax.set_ylabel('Count', fontsize=15)\n",
    "ax.set_title('Age Count Distribution', fontsize=15)\n",
    "ax.tick_params(labelsize=15)\n",
    "sns.despine()"
   ]
  },
  {
   "cell_type": "code",
   "execution_count": 218,
   "metadata": {},
   "outputs": [
    {
     "data": {
      "image/png": "[encoded data removed]",
      "text/plain": [
       "<Figure size 360x432 with 1 Axes>"
      ]
     },
     "metadata": {
      "needs_background": "light"
     },
     "output_type": "display_data"
    }
   ],
   "source": [
    "_ = pd.crosstab(data.marital, data.y)\n",
    "_.div(_.sum(1).astype(float), axis=0).plot(kind='bar', stacked=True, color=['deepskyblue','steelblue'],grid=False, figsize=(5, 6))\n",
    "plt.title('Normalized Stacked Bar Plot')\n",
    "plt.show()"
   ]
  },
  {
   "cell_type": "markdown",
   "metadata": {},
   "source": [
    "## Education"
   ]
  },
  {
   "cell_type": "code",
   "execution_count": 22,
   "metadata": {},
   "outputs": [
    {
     "data": {
      "image/png": "[encoded data removed]",
      "text/plain": [
       "<Figure size 576x360 with 1 Axes>"
      ]
     },
     "metadata": {
      "needs_background": "light"
     },
     "output_type": "display_data"
    }
   ],
   "source": [
    "# What kind of 'education clients this bank have\n",
    "fig, ax = plt.subplots()\n",
    "fig.set_size_inches(8, 5)\n",
    "sns.countplot(x = 'education', data = data)\n",
    "ax.set_xlabel('Education', fontsize=15)\n",
    "ax.set_ylabel('Count', fontsize=15)\n",
    "ax.set_title('Education Count Distribution', fontsize=15)\n",
    "ax.tick_params(labelsize=15)\n",
    "sns.despine()"
   ]
  },
  {
   "cell_type": "code",
   "execution_count": 220,
   "metadata": {},
   "outputs": [
    {
     "data": {
      "image/png": "[encoded data removed]",
      "text/plain": [
       "<Figure size 576x360 with 1 Axes>"
      ]
     },
     "metadata": {
      "needs_background": "light"
     },
     "output_type": "display_data"
    }
   ],
   "source": [
    "_ = pd.crosstab(data.education, data.y)\n",
    "_.div(_.sum(1).astype(float), axis=0).plot(kind='bar', stacked=True, color=['deepskyblue','steelblue'],grid=False, figsize=(8, 5))\n",
    "plt.title('Normalized Stacked Bar Plot')\n",
    "plt.show()"
   ]
  },
  {
   "cell_type": "markdown",
   "metadata": {},
   "source": [
    "## DEFAULT, HOUSING, LOAN"
   ]
  },
  {
   "cell_type": "code",
   "execution_count": 24,
   "metadata": {},
   "outputs": [
    {
     "data": {
      "image/png": "[encoded data removed]",
      "text/plain": [
       "<Figure size 1080x360 with 3 Axes>"
      ]
     },
     "metadata": {
      "needs_background": "light"
     },
     "output_type": "display_data"
    }
   ],
   "source": [
    "# Default, has credit in default ?\n",
    "fig, (ax1, ax2, ax3) = plt.subplots(nrows = 1, ncols = 3, figsize = (15,5))\n",
    "sns.countplot(x = 'default', data = data, ax = ax1, order = ['no', 'yes'])\n",
    "\n",
    "# Housing, has housing loan ?\n",
    "sns.countplot(x = 'housing', data = data, ax = ax2, order = ['no', 'yes'])\n",
    "\n",
    "# Loan, has personal loan ?\n",
    "sns.countplot(x = 'loan', data = data, ax = ax3, order = ['no', 'yes'])\n",
    "\n",
    "plt.subplots_adjust(wspace=0.25)"
   ]
  },
  {
   "cell_type": "code",
   "execution_count": 25,
   "metadata": {},
   "outputs": [
    {
     "data": {
      "text/plain": [
       "no     44396\n",
       "yes      815\n",
       "Name: default, dtype: int64"
      ]
     },
     "execution_count": 25,
     "metadata": {},
     "output_type": "execute_result"
    }
   ],
   "source": [
    "data.default.value_counts()"
   ]
  },
  {
   "cell_type": "code",
   "execution_count": 26,
   "metadata": {},
   "outputs": [
    {
     "data": {
      "text/plain": [
       "yes    25130\n",
       "no     20081\n",
       "Name: housing, dtype: int64"
      ]
     },
     "execution_count": 26,
     "metadata": {},
     "output_type": "execute_result"
    }
   ],
   "source": [
    "data.housing.value_counts()"
   ]
  },
  {
   "cell_type": "code",
   "execution_count": 27,
   "metadata": {},
   "outputs": [
    {
     "data": {
      "text/plain": [
       "no     37967\n",
       "yes     7244\n",
       "Name: loan, dtype: int64"
      ]
     },
     "execution_count": 27,
     "metadata": {},
     "output_type": "execute_result"
    }
   ],
   "source": [
    "data.loan.value_counts()"
   ]
  },
  {
   "cell_type": "code",
   "execution_count": 224,
   "metadata": {},
   "outputs": [
    {
     "data": {
      "image/png": "[encoded data removed]",
      "text/plain": [
       "<Figure size 1080x360 with 3 Axes>"
      ]
     },
     "metadata": {
      "needs_background": "light"
     },
     "output_type": "display_data"
    }
   ],
   "source": [
    "fig, (ax1, ax2, ax3) = plt.subplots(nrows = 1, ncols = 3, figsize = (15,5))\n",
    "_ = pd.crosstab(data.default, data.y)\n",
    "_.div(_.sum(1).astype(float), axis=0).plot(kind='bar', stacked=True, color=['deepskyblue','steelblue'],grid=False, ax =ax1)\n",
    "\n",
    "_ = pd.crosstab(data.housing, data.y)\n",
    "_.div(_.sum(1).astype(float), axis=0).plot(kind='bar', stacked=True, color=['deepskyblue','steelblue'],grid=False, ax = ax2)\n",
    "\n",
    "_ = pd.crosstab(data.loan, data.y)\n",
    "_.div(_.sum(1).astype(float), axis=0).plot(kind='bar', stacked=True, color=['deepskyblue','steelblue'],grid=False, ax = ax3)\n",
    "\n",
    "plt.show()"
   ]
  },
  {
   "cell_type": "markdown",
   "metadata": {},
   "source": [
    "## Balance"
   ]
  },
  {
   "cell_type": "code",
   "execution_count": 29,
   "metadata": {},
   "outputs": [
    {
     "data": {
      "image/png": "[encoded data removed]",
      "text/plain": [
       "<Figure size 432x288 with 1 Axes>"
      ]
     },
     "metadata": {
      "needs_background": "light"
     },
     "output_type": "display_data"
    }
   ],
   "source": [
    "_ = plt.hist(data.balance,bins=50)\n",
    "_ = plt.xlabel('Balance')\n",
    "_ = plt.ylabel('Counts')\n",
    "_ = plt.title('Histogram of client balance')\n",
    "plt.show()"
   ]
  },
  {
   "cell_type": "code",
   "execution_count": 30,
   "metadata": {},
   "outputs": [
    {
     "data": {
      "text/plain": [
       "count     45211.000000\n",
       "mean       1362.272058\n",
       "std        3044.765829\n",
       "min       -8019.000000\n",
       "25%          72.000000\n",
       "50%         448.000000\n",
       "75%        1428.000000\n",
       "max      102127.000000\n",
       "Name: balance, dtype: float64"
      ]
     },
     "execution_count": 30,
     "metadata": {},
     "output_type": "execute_result"
    }
   ],
   "source": [
    "data.balance.describe()"
   ]
  },
  {
   "cell_type": "code",
   "execution_count": 31,
   "metadata": {},
   "outputs": [
    {
     "data": {
      "image/png": "[encoded data removed]",
      "text/plain": [
       "<Figure size 432x288 with 1 Axes>"
      ]
     },
     "metadata": {
      "needs_background": "light"
     },
     "output_type": "display_data"
    }
   ],
   "source": [
    "_ = plt.boxplot(data.balance)\n",
    "_ = plt.ylabel('Balance')\n",
    "_ = plt.title('Boxplot of client balance')\n",
    "plt.show()"
   ]
  },
  {
   "cell_type": "code",
   "execution_count": 32,
   "metadata": {},
   "outputs": [
    {
     "name": "stdout",
     "output_type": "stream",
     "text": [
      "no     6778\n",
      "yes     502\n",
      "Name: y, dtype: int64\n",
      "No. of clients who have zero or negative balance : 7280\n"
     ]
    }
   ],
   "source": [
    "y_for_balance_less_than_zero = data.y[data.balance <= 0 ]\n",
    "print(y_for_balance_less_than_zero.value_counts())\n",
    "print(\"No. of clients who have zero or negative balance :\", len(y_for_balance_less_than_zero))"
   ]
  },
  {
   "cell_type": "markdown",
   "metadata": {},
   "source": [
    "### Hypothesis testing on balance"
   ]
  },
  {
   "cell_type": "markdown",
   "metadata": {},
   "source": [
    "### Hypothesis 1"
   ]
  },
  {
   "cell_type": "code",
   "execution_count": 33,
   "metadata": {},
   "outputs": [
    {
     "name": "stdout",
     "output_type": "stream",
     "text": [
      "Category 1 : Balance of customers who subscribed for a term deposit\n",
      "Category 2 : Balance of customers who did not subscribe for a term deposit\n",
      "\n"
     ]
    }
   ],
   "source": [
    "print('Category 1 : Balance of customers who subscribed for a term deposit')\n",
    "print('Category 2 : Balance of customers who did not subscribe for a term deposit\\n')"
   ]
  },
  {
   "cell_type": "code",
   "execution_count": 34,
   "metadata": {},
   "outputs": [
    {
     "name": "stdout",
     "output_type": "stream",
     "text": [
      "Null hypothesis : Balance of customers who subscribed for term deposit does not differ from those who did not.\n",
      "(Category 1 does not differ from Category 2)\n",
      "Alternate hypothesis : Balance of customers who subscribed for term deposit differ from those who did not.\n",
      "(Category 1 is different from Category 2)\n"
     ]
    }
   ],
   "source": [
    "print('Null hypothesis : Balance of customers who subscribed for term deposit does not differ from those who did not.\\n(Category 1 does not differ from Category 2)')\n",
    "print('Alternate hypothesis : Balance of customers who subscribed for term deposit differ from those who did not.\\n(Category 1 is different from Category 2)')\n"
   ]
  },
  {
   "cell_type": "code",
   "execution_count": 35,
   "metadata": {},
   "outputs": [
    {
     "data": {
      "image/png": "[encoded data removed]",
      "text/plain": [
       "<Figure size 432x288 with 1 Axes>"
      ]
     },
     "metadata": {
      "needs_background": "light"
     },
     "output_type": "display_data"
    },
    {
     "data": {
      "image/png": "[encoded data removed]",
      "text/plain": [
       "<Figure size 432x288 with 1 Axes>"
      ]
     },
     "metadata": {
      "needs_background": "light"
     },
     "output_type": "display_data"
    }
   ],
   "source": [
    "balance_yes = data.balance[data.y == 'yes']\n",
    "balance_no = data.balance[data.y == 'no']\n",
    "\n",
    "plt.hist(balance_yes, bins =40)\n",
    "plt.title('Histogram of customer balance for y = yes')\n",
    "plt.show()\n",
    "\n",
    "plt.hist(balance_no, bins = 40)\n",
    "plt.title('Histogram of customer balance for y = no')\n",
    "plt.show()\n"
   ]
  },
  {
   "cell_type": "code",
   "execution_count": 36,
   "metadata": {},
   "outputs": [
    {
     "name": "stdout",
     "output_type": "stream",
     "text": [
      "1804.2679145396105 3501.104776507358 5289\n",
      "1303.7149691899203 2974.1954729633367 39922\n"
     ]
    }
   ],
   "source": [
    "mean_balance_yes = np.mean(balance_yes)\n",
    "mean_balance_no = np.mean(balance_no)\n",
    "std_balance_yes = np.std(balance_yes, ddof=1)\n",
    "std_balance_no = np.std(balance_no, ddof=1)\n",
    "length_balance_yes = len(balance_yes)\n",
    "length_balance_no = len(balance_no)\n",
    "\n",
    "print(mean_balance_yes, std_balance_yes, length_balance_yes)\n",
    "print(mean_balance_no, std_balance_no, length_balance_no)"
   ]
  },
  {
   "cell_type": "code",
   "execution_count": 37,
   "metadata": {},
   "outputs": [
    {
     "name": "stdout",
     "output_type": "stream",
     "text": [
      "Mean balance for customers who subscribed to term deposit : 1804.2679145396105\n",
      "95% Confidence interval for mean balance of customers who subscribed to term deposit : \n",
      " [1709.8909876578794, 1898.6448414213417]\n",
      "\n",
      "Mean balance for customers who did not subscribe to term deposit : 1303.7149691899203\n",
      "95% Confidence interval for mean balance of customers who didn't subscribe to term deposit : \n",
      " [1274.5390450112463, 1332.8908933685943]\n",
      "\n",
      "T-test statistic :  9.933545392962255 \n",
      "P-value :  4.3837327771001536e-23\n",
      "\n",
      "Since the p-value is very small, Null hypothesis is rejected, Alternate hypothesis holds true\n",
      "\n",
      "Alternate hypothesis : Balance of customers who subscribed to term deposit differ from customers who did not \n",
      "subscribe to term deposit\n",
      "The mean for customers with y='yes' is 1804$ compared to 1303$ with y='no'\n"
     ]
    }
   ],
   "source": [
    "#Calculating the 95% confidence interval for Category 1 and Category 2\n",
    "\n",
    "print(\"Mean balance for customers who subscribed to term deposit :\", mean_balance_yes)\n",
    "\n",
    "critical_value_yes = t.ppf(0.975, df = length_balance_yes - 1)\n",
    "m_o_err_yes =  critical_value_yes * (std_balance_yes/ np.sqrt(length_balance_yes))\n",
    "confidence_intrvl_yes = [mean_balance_yes - m_o_err_yes, mean_balance_yes + m_o_err_yes]\n",
    "print(\"95% Confidence interval for mean balance of customers who subscribed to term deposit : \\n\", confidence_intrvl_yes)\n",
    "\n",
    "\n",
    "print(\"\\nMean balance for customers who did not subscribe to term deposit :\", mean_balance_no)\n",
    "\n",
    "critical_value_no = t.ppf(0.975, df = length_balance_no - 1)\n",
    "m_o_err_no =  critical_value_no * (std_balance_no/ np.sqrt(length_balance_no))\n",
    "confidence_intrvl_no = [mean_balance_no - m_o_err_no, mean_balance_no + m_o_err_no]\n",
    "print(\"95% Confidence interval for mean balance of customers who didn't subscribe to term deposit : \\n\", confidence_intrvl_no)\n",
    "\n",
    "#Using scipy.stats, function to perform a t-test on two independent samples\n",
    "t_test, p_value = scipy.stats.ttest_ind(balance_yes, balance_no, equal_var=False)\n",
    "print(\"\\nT-test statistic : \",t_test, \"\\nP-value : \", p_value)\n",
    "\n",
    "print(\"\\nSince the p-value is very small, Null hypothesis is rejected, Alternate hypothesis holds true\")\n",
    "print(\"\\nAlternate hypothesis : Balance of customers who subscribed to term deposit differ from customers who did not \\nsubscribe to term deposit\")\n",
    "print(\"The mean for customers with y='yes' is 1804$ compared to 1303$ with y='no'\")"
   ]
  },
  {
   "cell_type": "markdown",
   "metadata": {},
   "source": [
    "### Analysing balance of customers according to their balance"
   ]
  },
  {
   "cell_type": "code",
   "execution_count": 38,
   "metadata": {},
   "outputs": [],
   "source": [
    "zero_or_negative_balance = data[['balance', 'y']][data.balance <= 0]\n",
    "zero_or_negative_balance_yes = zero_or_negative_balance.balance[zero_or_negative_balance.y == 'yes']\n",
    "zero_or_negative_balance_no = zero_or_negative_balance.balance[zero_or_negative_balance.y == 'no']\n",
    "\n",
    "zero_balance = zero_or_negative_balance[zero_or_negative_balance.balance == 0]\n",
    "zero_balance_yes = zero_balance.balance[zero_balance.y == 'yes']\n",
    "zero_balance_no = zero_balance.balance[zero_balance.y == 'no']\n",
    "\n",
    "negative_balance = data[['balance', 'y']][data.balance < 0]\n",
    "negative_balance_yes = negative_balance.balance[negative_balance.y == 'yes']\n",
    "negative_balance_no = negative_balance.balance[negative_balance.y == 'no']\n",
    "\n",
    "balance_greater_than_zero = data[['balance', 'y']][data.balance > 0]\n",
    "balance_greater_than_zero_yes = balance_greater_than_zero.balance[balance_greater_than_zero.y == 'yes']\n",
    "balance_greater_than_zero_no = balance_greater_than_zero.balance[balance_greater_than_zero.y == 'no']\n"
   ]
  },
  {
   "cell_type": "code",
   "execution_count": 39,
   "metadata": {},
   "outputs": [
    {
     "data": {
      "text/plain": [
       "(7280, 502, 6778, 0.06895604395604396)"
      ]
     },
     "execution_count": 39,
     "metadata": {},
     "output_type": "execute_result"
    }
   ],
   "source": [
    "len(zero_or_negative_balance), len(zero_or_negative_balance_yes), len(zero_or_negative_balance_no), len(zero_or_negative_balance_yes)/ len(zero_or_negative_balance)"
   ]
  },
  {
   "cell_type": "code",
   "execution_count": 40,
   "metadata": {},
   "outputs": [
    {
     "data": {
      "text/plain": [
       "(3514, 292, 3222, 0.08309618668184406)"
      ]
     },
     "execution_count": 40,
     "metadata": {},
     "output_type": "execute_result"
    }
   ],
   "source": [
    "len(zero_balance), len(zero_balance_yes), len(zero_balance_no), len(zero_balance_yes)/ len(zero_balance)"
   ]
  },
  {
   "cell_type": "code",
   "execution_count": 41,
   "metadata": {},
   "outputs": [
    {
     "data": {
      "text/plain": [
       "(3766, 210, 3556, 0.055762081784386616)"
      ]
     },
     "execution_count": 41,
     "metadata": {},
     "output_type": "execute_result"
    }
   ],
   "source": [
    "len(negative_balance), len(negative_balance_yes), len(negative_balance_no), len(negative_balance_yes)/len(negative_balance)"
   ]
  },
  {
   "cell_type": "code",
   "execution_count": 42,
   "metadata": {},
   "outputs": [
    {
     "data": {
      "text/plain": [
       "(37931, 4787, 33144, 0.12620284200258364)"
      ]
     },
     "execution_count": 42,
     "metadata": {},
     "output_type": "execute_result"
    }
   ],
   "source": [
    "len(balance_greater_than_zero), len(balance_greater_than_zero_yes), len(balance_greater_than_zero_no), len(balance_greater_than_zero_yes)/ len(balance_greater_than_zero)"
   ]
  },
  {
   "cell_type": "markdown",
   "metadata": {},
   "source": [
    "### Hypothesis 2"
   ]
  },
  {
   "cell_type": "code",
   "execution_count": 43,
   "metadata": {},
   "outputs": [
    {
     "name": "stdout",
     "output_type": "stream",
     "text": [
      "Null hypothesis : Balance has no effect on customers subscribing for a Term Deposit\n",
      "Alternate hypothesis : Balance plays a role in customers subscribing for a Term Deposit\n"
     ]
    }
   ],
   "source": [
    "# a = customers with balance = (zero or negative) who subscribed for a term deposit\n",
    "# b = customers with balance greater than zero who subscribed for a term deposit\n",
    "\n",
    "a = zero_or_negative_balance_yes\n",
    "b = balance_greater_than_zero_yes\n",
    "\n",
    "print(\"Null hypothesis : Balance has no effect on customers subscribing for a Term Deposit\")\n",
    "print(\"Alternate hypothesis : Balance plays a role in customers subscribing for a Term Deposit\")"
   ]
  },
  {
   "cell_type": "code",
   "execution_count": 44,
   "metadata": {},
   "outputs": [
    {
     "data": {
      "image/png": "[encoded data removed]",
      "text/plain": [
       "<Figure size 432x288 with 1 Axes>"
      ]
     },
     "metadata": {
      "needs_background": "light"
     },
     "output_type": "display_data"
    },
    {
     "data": {
      "image/png": "[encoded data removed]",
      "text/plain": [
       "<Figure size 432x288 with 1 Axes>"
      ]
     },
     "metadata": {
      "needs_background": "light"
     },
     "output_type": "display_data"
    },
    {
     "data": {
      "image/png": "[encoded data removed]",
      "text/plain": [
       "<Figure size 432x288 with 1 Axes>"
      ]
     },
     "metadata": {
      "needs_background": "light"
     },
     "output_type": "display_data"
    }
   ],
   "source": [
    "plt.hist(a, bins =40)\n",
    "plt.title('Histogram of Balance for A')\n",
    "plt.show()\n",
    "\n",
    "plt.hist(-1 * a, bins =40)\n",
    "plt.title('Histogram of Balance for A after reversing signs')\n",
    "plt.show()\n",
    "\n",
    "plt.hist(b, bins = 40)\n",
    "plt.title('Histogram of Balance for B')\n",
    "plt.show()"
   ]
  },
  {
   "cell_type": "code",
   "execution_count": 45,
   "metadata": {},
   "outputs": [
    {
     "data": {
      "text/plain": [
       "(126.7011952191235, 261.33516835307336, 502)"
      ]
     },
     "execution_count": 45,
     "metadata": {},
     "output_type": "execute_result"
    }
   ],
   "source": [
    "#for the sake of the hypothesis, reversing the -ve of a to +ve.\n",
    "a = -1 * a\n",
    "\n",
    "mean_a = np.mean(a)\n",
    "mean_b = np.mean(b)\n",
    "std_a = np.std(a, ddof=1)\n",
    "std_b = np.std(b, ddof=1)\n",
    "length_a = len(a)\n",
    "length_b = len(b)\n",
    "\n",
    "mean_a, std_a, length_a"
   ]
  },
  {
   "cell_type": "code",
   "execution_count": 46,
   "metadata": {},
   "outputs": [
    {
     "data": {
      "text/plain": [
       "(2006.7635262168374, 3619.9699740032706, 4787)"
      ]
     },
     "execution_count": 46,
     "metadata": {},
     "output_type": "execute_result"
    }
   ],
   "source": [
    "mean_b, std_b, length_b"
   ]
  },
  {
   "cell_type": "code",
   "execution_count": 47,
   "metadata": {},
   "outputs": [
    {
     "name": "stdout",
     "output_type": "stream",
     "text": [
      "Category 1: a = customers with balance = (zero or negative) who subscribed to term deposit\n",
      "Category 2: b = customers with balance greater than zero who subscribed to term deposit\n",
      "\n",
      "Mean balance for Category 1 :  126.7011952191235\n",
      "95% Confidence interval for mean balance for Category 1 : \n",
      " [103.78489380898702, 149.61749662926]\n",
      "\n",
      "Mean balance for Category 2 : 1303.7149691899203\n",
      "95% Confidence interval for mean balance for Category 2 : \n",
      " [1904.1909671704302, 2109.3360852632445]\n",
      "\n",
      "T-test statistic :  -35.07249426419 \n",
      "P-value :  7.41813913078323e-242\n",
      "\n",
      "Since the p-value is extremely small, Null hypothesis is rejected, Alternate hypothesis holds true\n",
      "Alternate hypothesis : Balance plays a role in customers subscribing to Term Deposit\n"
     ]
    }
   ],
   "source": [
    "print(\"Category 1: a = customers with balance = (zero or negative) who subscribed to term deposit\")\n",
    "print(\"Category 2: b = customers with balance greater than zero who subscribed to term deposit\\n\")\n",
    "\n",
    "#Calculating the 95% confidence interval for Category 1 and Category 2\n",
    "\n",
    "print(\"Mean balance for Category 1 : \", mean_a)\n",
    "\n",
    "critical_value_yes = t.ppf(0.975, df = length_a - 1)\n",
    "m_o_err_yes =  critical_value_yes * (std_a/ np.sqrt(length_a))\n",
    "confidence_intrvl_yes = [mean_a - m_o_err_yes, mean_a + m_o_err_yes]\n",
    "print(\"95% Confidence interval for mean balance for Category 1 : \\n\", confidence_intrvl_yes)\n",
    "\n",
    "\n",
    "print(\"\\nMean balance for Category 2 :\", mean_balance_no)\n",
    "\n",
    "critical_value_no = t.ppf(0.975, df = length_b - 1)\n",
    "m_o_err_no =  critical_value_no * (std_b/ np.sqrt(length_b))\n",
    "confidence_intrvl_no = [mean_b - m_o_err_no, mean_b + m_o_err_no]\n",
    "print(\"95% Confidence interval for mean balance for Category 2 : \\n\", confidence_intrvl_no)\n",
    "\n",
    "#Using scipy.stats, function to perform a t-test on two independent samples\n",
    "t_test, p_value = scipy.stats.ttest_ind(a, b, equal_var=False)\n",
    "print(\"\\nT-test statistic : \",t_test, \"\\nP-value : \", p_value)\n",
    "\n",
    "print(\"\\nSince the p-value is extremely small, Null hypothesis is rejected, Alternate hypothesis holds true\")\n",
    "print(\"Alternate hypothesis : Balance plays a role in customers subscribing to Term Deposit\")"
   ]
  },
  {
   "cell_type": "markdown",
   "metadata": {},
   "source": [
    "## Contact"
   ]
  },
  {
   "cell_type": "code",
   "execution_count": 48,
   "metadata": {},
   "outputs": [
    {
     "data": {
      "text/plain": [
       "cellular     29285\n",
       "unknown      13020\n",
       "telephone     2906\n",
       "Name: contact, dtype: int64"
      ]
     },
     "execution_count": 48,
     "metadata": {},
     "output_type": "execute_result"
    }
   ],
   "source": [
    "# contact communication type \n",
    "data.contact.value_counts()"
   ]
  },
  {
   "cell_type": "code",
   "execution_count": 49,
   "metadata": {},
   "outputs": [
    {
     "data": {
      "image/png": "[encoded data removed]",
      "text/plain": [
       "<Figure size 432x288 with 1 Axes>"
      ]
     },
     "metadata": {
      "needs_background": "light"
     },
     "output_type": "display_data"
    }
   ],
   "source": [
    "sns.countplot(x = 'contact', data = data)\n",
    "plt.title('Means of contact - Count Distribution', fontsize=15)\n",
    "plt.tick_params(labelsize=10)\n",
    "sns.despine()"
   ]
  },
  {
   "cell_type": "code",
   "execution_count": 50,
   "metadata": {},
   "outputs": [
    {
     "data": {
      "image/png": "[encoded data removed]",
      "text/plain": [
       "<Figure size 360x432 with 1 Axes>"
      ]
     },
     "metadata": {
      "needs_background": "light"
     },
     "output_type": "display_data"
    }
   ],
   "source": [
    "_ = pd.crosstab(data.contact, data.y)\n",
    "_.div(_.sum(1).astype(float), axis=0).plot(kind='bar', stacked=True, color=['deepskyblue','steelblue'],grid=False, figsize=(5, 6))\n",
    "plt.title('Normalized Stacked Bar Plot')\n",
    "plt.show()"
   ]
  },
  {
   "cell_type": "markdown",
   "metadata": {},
   "source": [
    "__A__ This data might not be important because everyone has been contacted regardless of how."
   ]
  },
  {
   "cell_type": "markdown",
   "metadata": {},
   "source": [
    "## Day"
   ]
  },
  {
   "cell_type": "code",
   "execution_count": 51,
   "metadata": {},
   "outputs": [
    {
     "data": {
      "image/png": "[encoded data removed]",
      "text/plain": [
       "<Figure size 1800x360 with 1 Axes>"
      ]
     },
     "metadata": {
      "needs_background": "light"
     },
     "output_type": "display_data"
    }
   ],
   "source": [
    "# day: last contact day of the month\n",
    "fig, ax = plt.subplots()\n",
    "fig.set_size_inches(25, 5)\n",
    "sns.countplot(x = 'day', data = data)\n",
    "ax.set_xlabel('Day', fontsize=15)\n",
    "ax.set_ylabel('Count', fontsize=15)\n",
    "ax.set_title('Day Count Distribution', fontsize=15)\n",
    "ax.tick_params(labelsize=15)\n",
    "sns.despine()"
   ]
  },
  {
   "cell_type": "code",
   "execution_count": 226,
   "metadata": {},
   "outputs": [
    {
     "data": {
      "image/png": "[encoded data removed]",
      "text/plain": [
       "<Figure size 1080x360 with 1 Axes>"
      ]
     },
     "metadata": {
      "needs_background": "light"
     },
     "output_type": "display_data"
    }
   ],
   "source": [
    "_ = pd.crosstab(data.day, data.y)\n",
    "_.div(_.sum(1).astype(float), axis=0).plot(kind='bar', stacked=True, color=['deepskyblue','steelblue'],grid=False, figsize=(15, 5))\n",
    "plt.title('Normalized Stacked Bar Plot')\n",
    "plt.show()"
   ]
  },
  {
   "cell_type": "markdown",
   "metadata": {},
   "source": [
    "## Month"
   ]
  },
  {
   "cell_type": "code",
   "execution_count": 53,
   "metadata": {},
   "outputs": [
    {
     "data": {
      "image/png": "[encoded data removed]",
      "text/plain": [
       "<Figure size 1800x360 with 1 Axes>"
      ]
     },
     "metadata": {
      "needs_background": "light"
     },
     "output_type": "display_data"
    }
   ],
   "source": [
    "# last contact month of year \n",
    "fig, ax = plt.subplots()\n",
    "fig.set_size_inches(25, 5)\n",
    "sns.countplot(x = 'month', data = data)\n",
    "ax.set_xlabel('Month', fontsize=15)\n",
    "ax.set_ylabel('Count', fontsize=15)\n",
    "ax.set_title('Month Count Distribution', fontsize=15)\n",
    "ax.tick_params(labelsize=15)\n",
    "sns.despine()"
   ]
  },
  {
   "cell_type": "code",
   "execution_count": 227,
   "metadata": {},
   "outputs": [
    {
     "data": {
      "image/png": "[encoded data removed]",
      "text/plain": [
       "<Figure size 720x432 with 1 Axes>"
      ]
     },
     "metadata": {
      "needs_background": "light"
     },
     "output_type": "display_data"
    }
   ],
   "source": [
    "_ = pd.crosstab(data.month, data.y)\n",
    "_.div(_.sum(1).astype(float), axis=0).plot(kind='bar', stacked=True, color=['deepskyblue','steelblue'],grid=False, figsize=(10, 6))\n",
    "plt.title('Normalized Stacked Bar Plot')\n",
    "plt.show()"
   ]
  },
  {
   "cell_type": "markdown",
   "metadata": {},
   "source": [
    "## Duration"
   ]
  },
  {
   "cell_type": "code",
   "execution_count": 55,
   "metadata": {},
   "outputs": [
    {
     "data": {
      "image/png": "[encoded data removed]",
      "text/plain": [
       "<Figure size 432x288 with 1 Axes>"
      ]
     },
     "metadata": {
      "needs_background": "light"
     },
     "output_type": "display_data"
    },
    {
     "data": {
      "text/plain": [
       "count    45211.000000\n",
       "mean       258.163080\n",
       "std        257.527812\n",
       "min          0.000000\n",
       "25%        103.000000\n",
       "50%        180.000000\n",
       "75%        319.000000\n",
       "max       4918.000000\n",
       "Name: duration, dtype: float64"
      ]
     },
     "execution_count": 55,
     "metadata": {},
     "output_type": "execute_result"
    }
   ],
   "source": [
    "# last contact duration, in seconds\n",
    "#histogram of duration of phone call\n",
    "_ = plt.hist((data.duration),bins=100)\n",
    "_ = plt.xlabel('Duration')\n",
    "_ = plt.ylabel('Frequency')\n",
    "_ = plt.title('Histogram of duration')\n",
    "plt.show()\n",
    "data.duration.describe()"
   ]
  },
  {
   "cell_type": "code",
   "execution_count": 56,
   "metadata": {},
   "outputs": [
    {
     "data": {
      "image/png": "[encoded data removed]",
      "text/plain": [
       "<Figure size 432x288 with 1 Axes>"
      ]
     },
     "metadata": {
      "needs_background": "light"
     },
     "output_type": "display_data"
    }
   ],
   "source": [
    "#Boxplot of duration\n",
    "_ = sns.boxplot(data.duration)\n",
    "_ = plt.xlabel('Duration')\n",
    "_ = plt.title('Boxplot of duration')\n",
    "plt.show()\n",
    "\n",
    "# The boxplot shows that there are outliers. But the outliers are left as such for further analysis."
   ]
  },
  {
   "cell_type": "code",
   "execution_count": 57,
   "metadata": {},
   "outputs": [
    {
     "name": "stdout",
     "output_type": "stream",
     "text": [
      "Mean:  258.1630797814691\n"
     ]
    }
   ],
   "source": [
    "print('Mean: ', data.duration.mean())"
   ]
  },
  {
   "cell_type": "markdown",
   "metadata": {},
   "source": [
    "### Hypothesis testing - duration"
   ]
  },
  {
   "cell_type": "code",
   "execution_count": 58,
   "metadata": {},
   "outputs": [
    {
     "name": "stdout",
     "output_type": "stream",
     "text": [
      "Null hypothesis: Duration of phonecall is irrelevant to whether the customer will subscribe for a term deposit or not\n",
      "Alternate hypothesis: Duration plays an important role in whether the customer will subscribe for a term deposit or not\n"
     ]
    }
   ],
   "source": [
    "print(\"Null hypothesis: Duration of phonecall is irrelevant to whether the customer will subscribe for a term deposit or not\")\n",
    "print(\"Alternate hypothesis: Duration plays an important role in whether the customer will subscribe for a term deposit or not\")\n"
   ]
  },
  {
   "cell_type": "code",
   "execution_count": null,
   "metadata": {},
   "outputs": [],
   "source": []
  },
  {
   "cell_type": "code",
   "execution_count": 59,
   "metadata": {},
   "outputs": [
    {
     "data": {
      "image/png": "[encoded data removed]",
      "text/plain": [
       "<Figure size 432x288 with 1 Axes>"
      ]
     },
     "metadata": {
      "needs_background": "light"
     },
     "output_type": "display_data"
    },
    {
     "data": {
      "image/png": "[encoded data removed]",
      "text/plain": [
       "<Figure size 432x288 with 1 Axes>"
      ]
     },
     "metadata": {
      "needs_background": "light"
     },
     "output_type": "display_data"
    }
   ],
   "source": [
    "duration_yes = data.duration[data.y == 'yes']\n",
    "duration_no = data.duration[data.y == 'no']\n",
    "\n",
    "plt.hist(duration_yes, bins =40)\n",
    "plt.title('Histogram of duration for y = yes')\n",
    "plt.show()\n",
    "\n",
    "plt.hist(duration_no, bins = 40)\n",
    "plt.title('Histogram of duration for y = no')\n",
    "plt.show()\n"
   ]
  },
  {
   "cell_type": "code",
   "execution_count": 60,
   "metadata": {},
   "outputs": [
    {
     "name": "stdout",
     "output_type": "stream",
     "text": [
      "537.2945736434109 392.52526226417103 5289\n",
      "221.18280647262162 207.38323718641033 39922\n"
     ]
    }
   ],
   "source": [
    "mean_duration_yes = np.mean(duration_yes)\n",
    "mean_duration_no = np.mean(duration_no)\n",
    "std_duration_yes = np.std(duration_yes, ddof=1)\n",
    "std_duration_no = np.std(duration_no, ddof=1)\n",
    "length_duration_yes = len(duration_yes)\n",
    "length_duration_no = len(duration_no)\n",
    "\n",
    "print(mean_duration_yes, std_duration_yes, length_duration_yes)\n",
    "print(mean_duration_no, std_duration_no, length_duration_no)"
   ]
  },
  {
   "cell_type": "code",
   "execution_count": 61,
   "metadata": {},
   "outputs": [
    {
     "name": "stdout",
     "output_type": "stream",
     "text": [
      "Mean duration for customers who subscribed to term deposit : 537.2945736434109\n",
      "95% Confidence interval for mean duration for customers who subscribed to term deposit : \n",
      " [526.7135341313933, 547.8756131554285]\n",
      "\n",
      "Mean duration for customers who did not subscribe to term deposit : 221.18280647262162\n",
      "95% Confidence interval for mean duration for customers who didn't subscribe to term deposit : \n",
      " [219.14844200025217, 223.21717094499107]\n",
      "\n",
      "T-test statistic :  57.51412654456789 \n",
      "P-value :  0.0\n",
      "\n",
      "Since the p-value is 0, Null hypothesis is rejected, Alternate hypothesis holds true\n",
      "\n",
      "Alternate hypothesis: Duration of phonecall plays an important role in whether the customer will subscribe for term \n",
      "deposit or not\n"
     ]
    }
   ],
   "source": [
    "#Calculating the 95% confidence interval for Category 1 and Category 2\n",
    "\n",
    "print(\"Mean duration for customers who subscribed to term deposit :\", mean_duration_yes)\n",
    "\n",
    "critical_value_yes = t.ppf(0.975, df = length_duration_yes - 1)\n",
    "m_o_err_yes =  critical_value_yes * (std_duration_yes/ np.sqrt(length_duration_yes))\n",
    "confidence_intrvl_yes = [mean_duration_yes - m_o_err_yes, mean_duration_yes + m_o_err_yes]\n",
    "print(\"95% Confidence interval for mean duration for customers who subscribed to term deposit : \\n\", confidence_intrvl_yes)\n",
    "\n",
    "\n",
    "print(\"\\nMean duration for customers who did not subscribe to term deposit :\", mean_duration_no)\n",
    "\n",
    "critical_value_no = t.ppf(0.975, df = length_duration_no - 1)\n",
    "m_o_err_no =  critical_value_no * (std_duration_no/ np.sqrt(length_duration_no))\n",
    "confidence_intrvl_no = [mean_duration_no - m_o_err_no, mean_duration_no + m_o_err_no]\n",
    "print(\"95% Confidence interval for mean duration for customers who didn't subscribe to term deposit : \\n\", confidence_intrvl_no)\n",
    "\n",
    "#Using scipy.stats, function to perform a t-test on two independent samples\n",
    "t_test, p_value = scipy.stats.ttest_ind(duration_yes, duration_no, equal_var=False)\n",
    "print(\"\\nT-test statistic : \",t_test, \"\\nP-value : \", p_value)\n",
    "\n",
    "print(\"\\nSince the p-value is 0, Null hypothesis is rejected, Alternate hypothesis holds true\")\n",
    "print(\"\\nAlternate hypothesis: Duration of phonecall plays an important role in whether the customer will subscribe for term \\ndeposit or not\")\n"
   ]
  },
  {
   "cell_type": "markdown",
   "metadata": {},
   "source": [
    "## Campaign"
   ]
  },
  {
   "cell_type": "code",
   "execution_count": 62,
   "metadata": {},
   "outputs": [
    {
     "data": {
      "image/png": "[encoded data removed]",
      "text/plain": [
       "<Figure size 1800x360 with 1 Axes>"
      ]
     },
     "metadata": {
      "needs_background": "light"
     },
     "output_type": "display_data"
    }
   ],
   "source": [
    "# Number of contacts performed during this campaign and for this client \n",
    "fig, ax = plt.subplots()\n",
    "fig.set_size_inches(25, 5)\n",
    "sns.countplot(x = 'campaign', data = data)\n",
    "ax.set_xlabel('Campaign', fontsize=15)\n",
    "ax.set_ylabel('Count', fontsize=15)\n",
    "ax.set_title('Campaign Count Distribution', fontsize=15)\n",
    "ax.tick_params(labelsize=15)\n",
    "sns.despine()"
   ]
  },
  {
   "cell_type": "code",
   "execution_count": 63,
   "metadata": {},
   "outputs": [
    {
     "data": {
      "text/plain": [
       "count    45211.000000\n",
       "mean         2.763841\n",
       "std          3.098021\n",
       "min          1.000000\n",
       "25%          1.000000\n",
       "50%          2.000000\n",
       "75%          3.000000\n",
       "max         63.000000\n",
       "Name: campaign, dtype: float64"
      ]
     },
     "execution_count": 63,
     "metadata": {},
     "output_type": "execute_result"
    }
   ],
   "source": [
    "data.campaign.describe()"
   ]
  },
  {
   "cell_type": "code",
   "execution_count": 64,
   "metadata": {},
   "outputs": [
    {
     "data": {
      "image/png": "[encoded data removed]",
      "text/plain": [
       "<Figure size 432x288 with 1 Axes>"
      ]
     },
     "metadata": {
      "needs_background": "light"
     },
     "output_type": "display_data"
    }
   ],
   "source": [
    "_ = plt.boxplot('campaign', data = data)\n",
    "_ = plt.ylabel('Campaign count')\n",
    "_ = plt.title('Boxplot of campaign count data')\n",
    "plt.show()"
   ]
  },
  {
   "cell_type": "code",
   "execution_count": 65,
   "metadata": {},
   "outputs": [
    {
     "name": "stdout",
     "output_type": "stream",
     "text": [
      "1º Quartile:  1.0\n",
      "2º Quartile:  2.0\n",
      "3º Quartile:  3.0\n",
      "4º Quartile:  63.0\n",
      "Ages above:  6.0 are outliers\n"
     ]
    }
   ],
   "source": [
    "print('1º Quartile: ', data.campaign.quantile(q = 0.25))\n",
    "print('2º Quartile: ', data.campaign.quantile(q = 0.50))\n",
    "print('3º Quartile: ', data.campaign.quantile(q = 0.75))\n",
    "print('4º Quartile: ', data.campaign.quantile(q = 1.00))\n",
    "#Calculate the outliers:\n",
    "  # Interquartile range, IQR = Q3 - Q1\n",
    "  # lower 1.5*IQR whisker = Q1 - 1.5 * IQR \n",
    "  # Upper 1.5*IQR whisker = Q3 + 1.5 * IQR\n",
    "    \n",
    "print('Ages above: ', data.campaign.quantile(q = 0.75) + \n",
    "                      1.5*(data.campaign.quantile(q = 0.75) - data.campaign.quantile(q = 0.25)), 'are outliers')"
   ]
  },
  {
   "cell_type": "code",
   "execution_count": 66,
   "metadata": {},
   "outputs": [
    {
     "name": "stdout",
     "output_type": "stream",
     "text": [
      "Numerber of outliers:  3064\n",
      "Number of clients:  45211\n",
      "Outliers are: 6.78 %\n"
     ]
    }
   ],
   "source": [
    "print('Numerber of outliers: ', data[data.campaign > 6.0]['campaign'].count())\n",
    "print('Number of clients: ', len(data))\n",
    "#Outliers in %\n",
    "print('Outliers are:', round(data[data.campaign > 6.0]['campaign'].count()*100/len(data),2), '%')"
   ]
  },
  {
   "cell_type": "code",
   "execution_count": 67,
   "metadata": {},
   "outputs": [
    {
     "data": {
      "text/plain": [
       "no     2903\n",
       "yes     161\n",
       "Name: y, dtype: int64"
      ]
     },
     "execution_count": 67,
     "metadata": {},
     "output_type": "execute_result"
    }
   ],
   "source": [
    "# To check if the output 'y' is yes for any outliers of campaign column\n",
    "data[data.campaign > 6.0]['y'].value_counts()"
   ]
  },
  {
   "cell_type": "code",
   "execution_count": 228,
   "metadata": {},
   "outputs": [
    {
     "data": {
      "image/png": "[encoded data removed]",
      "text/plain": [
       "<Figure size 1080x432 with 1 Axes>"
      ]
     },
     "metadata": {
      "needs_background": "light"
     },
     "output_type": "display_data"
    }
   ],
   "source": [
    "_ = pd.crosstab(data.campaign, data.y)\n",
    "_.div(_.sum(1).astype(float), axis=0).plot(kind='bar', stacked=True, color=['deepskyblue','steelblue'],grid=False, figsize=(15, 6))\n",
    "plt.title('Normalized Stacked Bar Plot')\n",
    "plt.show()"
   ]
  },
  {
   "cell_type": "markdown",
   "metadata": {},
   "source": [
    "## Pdays"
   ]
  },
  {
   "cell_type": "code",
   "execution_count": 69,
   "metadata": {},
   "outputs": [
    {
     "data": {
      "text/plain": [
       "-1      36954\n",
       " 182      167\n",
       " 92       147\n",
       " 183      126\n",
       " 91       126\n",
       "        ...  \n",
       " 749        1\n",
       " 717        1\n",
       " 589        1\n",
       " 493        1\n",
       " 32         1\n",
       "Name: pdays, Length: 559, dtype: int64"
      ]
     },
     "execution_count": 69,
     "metadata": {},
     "output_type": "execute_result"
    }
   ],
   "source": [
    "# number of days that passed by after the client was last contacted from a previous campaign. \n",
    "# (numeric, -1 means client was not previously contacted)\n",
    "data.pdays.value_counts()"
   ]
  },
  {
   "cell_type": "code",
   "execution_count": 70,
   "metadata": {},
   "outputs": [
    {
     "data": {
      "image/png": "[encoded data removed]",
      "text/plain": [
       "<Figure size 432x288 with 1 Axes>"
      ]
     },
     "metadata": {
      "needs_background": "light"
     },
     "output_type": "display_data"
    }
   ],
   "source": [
    "_ = plt.boxplot('pdays', data= data)\n",
    "_ = plt.ylabel('Pdays count')\n",
    "_ = plt.title('No. of days since the client was last contacted from a previous campaign')\n",
    "plt.show()"
   ]
  },
  {
   "cell_type": "code",
   "execution_count": 71,
   "metadata": {},
   "outputs": [
    {
     "data": {
      "image/png": "[encoded data removed]",
      "text/plain": [
       "<Figure size 432x288 with 1 Axes>"
      ]
     },
     "metadata": {
      "needs_background": "light"
     },
     "output_type": "display_data"
    }
   ],
   "source": [
    "# Since there are 36954 entries that pertain to clients not being previously contacted,\n",
    "# I want to plot the rest of the data other than -1\n",
    "_ = plt.boxplot('pdays', data = data[data['pdays'] != -1])\n",
    "_ = plt.ylabel('Pdays count')\n",
    "_ = plt.title('No. of days since last contacted for clients who have been contacted before')\n",
    "plt.show()"
   ]
  },
  {
   "cell_type": "code",
   "execution_count": 72,
   "metadata": {},
   "outputs": [],
   "source": [
    "#Now, for this data with (pdays != -1) the outliers are pretty less and we can keep the outliers for further analysis."
   ]
  },
  {
   "cell_type": "markdown",
   "metadata": {},
   "source": [
    "## Previous"
   ]
  },
  {
   "cell_type": "code",
   "execution_count": 73,
   "metadata": {},
   "outputs": [
    {
     "data": {
      "text/plain": [
       "0      36954\n",
       "1       2772\n",
       "2       2106\n",
       "3       1142\n",
       "4        714\n",
       "5        459\n",
       "6        277\n",
       "7        205\n",
       "8        129\n",
       "9         92\n",
       "10        67\n",
       "11        65\n",
       "12        44\n",
       "13        38\n",
       "15        20\n",
       "14        19\n",
       "17        15\n",
       "16        13\n",
       "19        11\n",
       "23         8\n",
       "20         8\n",
       "22         6\n",
       "18         6\n",
       "24         5\n",
       "27         5\n",
       "29         4\n",
       "25         4\n",
       "21         4\n",
       "30         3\n",
       "28         2\n",
       "26         2\n",
       "37         2\n",
       "38         2\n",
       "55         1\n",
       "40         1\n",
       "35         1\n",
       "58         1\n",
       "51         1\n",
       "41         1\n",
       "32         1\n",
       "275        1\n",
       "Name: previous, dtype: int64"
      ]
     },
     "execution_count": 73,
     "metadata": {},
     "output_type": "execute_result"
    }
   ],
   "source": [
    "# number of contacts performed before this campaign and for this client \n",
    "data.previous.value_counts()"
   ]
  },
  {
   "cell_type": "code",
   "execution_count": 74,
   "metadata": {},
   "outputs": [
    {
     "data": {
      "image/png": "[encoded data removed]",
      "text/plain": [
       "<Figure size 432x288 with 1 Axes>"
      ]
     },
     "metadata": {
      "needs_background": "light"
     },
     "output_type": "display_data"
    }
   ],
   "source": [
    "# previous = 275 could just be an outlier because everything else is in the range of 0 to 50. \n",
    "# 0 has too high data of 36954 counts. Boxplot for the data for data except 0.\n",
    "_ = plt.boxplot('previous', data = data[data['previous'] != 0])\n",
    "_ = plt.ylabel('previous campaign counts')\n",
    "plt.show()"
   ]
  },
  {
   "cell_type": "code",
   "execution_count": 75,
   "metadata": {},
   "outputs": [
    {
     "data": {
      "image/png": "[encoded data removed]",
      "text/plain": [
       "<Figure size 1800x360 with 1 Axes>"
      ]
     },
     "metadata": {
      "needs_background": "light"
     },
     "output_type": "display_data"
    }
   ],
   "source": [
    "fig, ax = plt.subplots()\n",
    "fig.set_size_inches(25, 5)\n",
    "sns.countplot(x = 'previous', data = data)\n",
    "ax.set_xlabel('Previous', fontsize=15)\n",
    "ax.set_ylabel('Count', fontsize=15)\n",
    "ax.set_title('Previous Count Distribution', fontsize=15)\n",
    "ax.tick_params(labelsize=15)\n",
    "sns.despine()"
   ]
  },
  {
   "cell_type": "code",
   "execution_count": 76,
   "metadata": {},
   "outputs": [
    {
     "data": {
      "image/png": "[encoded data removed]",
      "text/plain": [
       "<Figure size 1800x360 with 1 Axes>"
      ]
     },
     "metadata": {
      "needs_background": "light"
     },
     "output_type": "display_data"
    }
   ],
   "source": [
    "# Same plot with data excluding 0\n",
    "fig, ax = plt.subplots()\n",
    "fig.set_size_inches(25, 5)\n",
    "sns.countplot(x = 'previous', data = data[data['previous'] != 0])\n",
    "ax.set_xlabel('Previous', fontsize=15)\n",
    "ax.set_ylabel('Count', fontsize=15)\n",
    "ax.set_title('Previous Count Distribution', fontsize=15)\n",
    "ax.tick_params(labelsize=15)\n",
    "sns.despine()"
   ]
  },
  {
   "cell_type": "markdown",
   "metadata": {},
   "source": [
    "## poutcome"
   ]
  },
  {
   "cell_type": "code",
   "execution_count": 77,
   "metadata": {},
   "outputs": [
    {
     "data": {
      "text/plain": [
       "unknown    36959\n",
       "failure     4901\n",
       "other       1840\n",
       "success     1511\n",
       "Name: poutcome, dtype: int64"
      ]
     },
     "execution_count": 77,
     "metadata": {},
     "output_type": "execute_result"
    }
   ],
   "source": [
    "# outcome of the previous marketing campaign\n",
    "data.poutcome.value_counts()"
   ]
  },
  {
   "cell_type": "code",
   "execution_count": 78,
   "metadata": {},
   "outputs": [
    {
     "data": {
      "image/png": "[encoded data removed]",
      "text/plain": [
       "<Figure size 360x288 with 1 Axes>"
      ]
     },
     "metadata": {
      "needs_background": "light"
     },
     "output_type": "display_data"
    }
   ],
   "source": [
    "fig, ax = plt.subplots()\n",
    "fig.set_size_inches(5, 4)\n",
    "sns.countplot(x = 'poutcome', data = data)\n",
    "ax.set_xlabel('Poutcome', fontsize=15)\n",
    "ax.set_ylabel('Count', fontsize=15)\n",
    "ax.set_title('Poutcome Count Distribution', fontsize=15)\n",
    "ax.tick_params(labelsize=15)\n",
    "sns.despine()"
   ]
  },
  {
   "cell_type": "code",
   "execution_count": 79,
   "metadata": {},
   "outputs": [
    {
     "data": {
      "text/plain": [
       "unknown    38799\n",
       "failure     4901\n",
       "success     1511\n",
       "Name: poutcome, dtype: int64"
      ]
     },
     "execution_count": 79,
     "metadata": {},
     "output_type": "execute_result"
    }
   ],
   "source": [
    "# Unknown and other categories could be grouped into one column since they could both be the same\n",
    "data['poutcome'] = data['poutcome'].replace(['other'] , 'unknown')\n",
    "data.poutcome.value_counts()"
   ]
  },
  {
   "cell_type": "code",
   "execution_count": 229,
   "metadata": {},
   "outputs": [
    {
     "data": {
      "image/png": "[encoded data removed]",
      "text/plain": [
       "<Figure size 360x432 with 1 Axes>"
      ]
     },
     "metadata": {
      "needs_background": "light"
     },
     "output_type": "display_data"
    }
   ],
   "source": [
    "_ = pd.crosstab(data.poutcome, data.y)\n",
    "_.div(_.sum(1).astype(float), axis=0).plot(kind='bar', stacked=True, color=['deepskyblue','steelblue'],grid=False, figsize=(5, 6))\n",
    "plt.title('Normalized Stacked Bar Plot')\n",
    "plt.show()"
   ]
  },
  {
   "cell_type": "markdown",
   "metadata": {},
   "source": [
    "## Categorical columns ->"
   ]
  },
  {
   "cell_type": "markdown",
   "metadata": {},
   "source": [
    "#### Normalized distribution of each class per feature and plotted difference between positive and negative frequencies. Positive values imply this category favors clients that will subscribe and negative values categories that favor not buying the product."
   ]
  },
  {
   "cell_type": "code",
   "execution_count": 81,
   "metadata": {},
   "outputs": [
    {
     "data": {
      "image/png": "[encoded data removed]",
      "text/plain": [
       "<Figure size 720x288 with 1 Axes>"
      ]
     },
     "metadata": {
      "needs_background": "light"
     },
     "output_type": "display_data"
    },
    {
     "data": {
      "image/png": "[encoded data removed]",
      "text/plain": [
       "<Figure size 720x288 with 1 Axes>"
      ]
     },
     "metadata": {
      "needs_background": "light"
     },
     "output_type": "display_data"
    },
    {
     "data": {
      "image/png": "[encoded data removed]",
      "text/plain": [
       "<Figure size 720x288 with 1 Axes>"
      ]
     },
     "metadata": {
      "needs_background": "light"
     },
     "output_type": "display_data"
    },
    {
     "data": {
      "image/png": "[encoded data removed]",
      "text/plain": [
       "<Figure size 720x288 with 1 Axes>"
      ]
     },
     "metadata": {
      "needs_background": "light"
     },
     "output_type": "display_data"
    },
    {
     "data": {
      "image/png": "[encoded data removed]",
      "text/plain": [
       "<Figure size 720x288 with 1 Axes>"
      ]
     },
     "metadata": {
      "needs_background": "light"
     },
     "output_type": "display_data"
    },
    {
     "data": {
      "image/png": "[encoded data removed]",
      "text/plain": [
       "<Figure size 720x288 with 1 Axes>"
      ]
     },
     "metadata": {
      "needs_background": "light"
     },
     "output_type": "display_data"
    },
    {
     "data": {
      "image/png": "[encoded data removed]",
      "text/plain": [
       "<Figure size 720x288 with 1 Axes>"
      ]
     },
     "metadata": {
      "needs_background": "light"
     },
     "output_type": "display_data"
    },
    {
     "data": {
      "image/png": "[encoded data removed]",
      "text/plain": [
       "<Figure size 720x288 with 1 Axes>"
      ]
     },
     "metadata": {
      "needs_background": "light"
     },
     "output_type": "display_data"
    },
    {
     "data": {
      "image/png": "[encoded data removed]",
      "text/plain": [
       "<Figure size 720x288 with 1 Axes>"
      ]
     },
     "metadata": {
      "needs_background": "light"
     },
     "output_type": "display_data"
    }
   ],
   "source": [
    "categorical_columns = ['job', 'marital', 'education', 'default', 'housing', 'loan', 'contact', 'month', 'poutcome']\n",
    "#Counts of how often each outcome was recorded.\n",
    "freq_pos = (data.y.values == 'yes').sum()\n",
    "freq_neg = (data.y.values == 'no').sum()\n",
    "\n",
    "for col in categorical_columns:\n",
    "    plt.figure(figsize=(10,4))\n",
    "    #Returns counts of unique values for each outcome for each feature.\n",
    "    pos_counts = data.loc[data.y.values == 'yes', col].value_counts() \n",
    "    neg_counts = data.loc[data.y.values == 'no', col].value_counts()\n",
    "    \n",
    "    all_counts = list(set(list(pos_counts.index) + list(neg_counts.index)))\n",
    "    \n",
    "    pos_counts = pos_counts.to_dict()\n",
    "    neg_counts = neg_counts.to_dict()\n",
    "    \n",
    "    all_index = list(all_counts)\n",
    "    all_counts = [pos_counts[k] / freq_pos - neg_counts[k] / freq_neg for k in all_counts]\n",
    "\n",
    "    sns.barplot(all_counts, all_index)\n",
    "    plt.title(col)\n",
    "    plt.tight_layout()\n"
   ]
  },
  {
   "cell_type": "markdown",
   "metadata": {},
   "source": [
    "# Categorical columns treatment"
   ]
  },
  {
   "cell_type": "code",
   "execution_count": 82,
   "metadata": {},
   "outputs": [],
   "source": [
    "data_cat = data.copy()\n",
    "\n",
    "data_cat['job'].replace(['management', 'technician', 'entrepreneur', 'blue-collar' , 'unknown' , 'retired' , 'admin.' , 'services' , 'self-employed', 'unemployed', 'housemaid' , 'student'] , [0, 1, 2, 3, 4, 5, 6, 7, 8, 9, 10, 11], inplace=True)\n",
    "\n",
    "data_cat['education'].replace(['tertiary', 'secondary', 'unknown', 'primary'], [0, 1, 2, 3], inplace=True)\n",
    "\n",
    "data_cat['marital'].replace(['married', 'single', 'divorced'], [0, 1, 2], inplace=True)\n",
    "\n",
    "data_cat['default'].replace(['no', 'yes'],[0, 1], inplace=True)\n",
    "\n",
    "data_cat['housing'].replace(['no', 'yes'],[0, 1], inplace=True)\n",
    "\n",
    "data_cat['loan'].replace(['no', 'yes'],[0, 1], inplace=True)\n",
    "\n",
    "data_cat['contact'].replace(['unknown', 'cellular', 'telephone'],[0, 1, 2], inplace=True)\n",
    "\n",
    "data_cat['month'].replace(['jan', 'feb', 'mar', 'apr', 'may', 'jun', 'jul', 'aug', 'sep', 'oct', 'nov', 'dec'],[1, 2, 3, 4, 5, 6, 7, 8, 9, 10, 11, 12], inplace=True)\n",
    "\n",
    "data_cat['poutcome'].replace(['unknown', 'failure', 'success'],[0, 1, 2], inplace=True)\n",
    "\n",
    "data_cat['y'].replace(['no', 'yes'],[0, 1], inplace=True)"
   ]
  },
  {
   "cell_type": "code",
   "execution_count": 83,
   "metadata": {},
   "outputs": [
    {
     "data": {
      "text/html": [
       "<div>\n",
       "<style scoped>\n",
       "    .dataframe tbody tr th:only-of-type {\n",
       "        vertical-align: middle;\n",
       "    }\n",
       "\n",
       "    .dataframe tbody tr th {\n",
       "        vertical-align: top;\n",
       "    }\n",
       "\n",
       "    .dataframe thead th {\n",
       "        text-align: right;\n",
       "    }\n",
       "</style>\n",
       "<table border=\"1\" class=\"dataframe\">\n",
       "  <thead>\n",
       "    <tr style=\"text-align: right;\">\n",
       "      <th></th>\n",
       "      <th>age</th>\n",
       "      <th>job</th>\n",
       "      <th>marital</th>\n",
       "      <th>education</th>\n",
       "      <th>default</th>\n",
       "      <th>balance</th>\n",
       "      <th>housing</th>\n",
       "      <th>loan</th>\n",
       "      <th>contact</th>\n",
       "      <th>day</th>\n",
       "      <th>month</th>\n",
       "      <th>duration</th>\n",
       "      <th>campaign</th>\n",
       "      <th>pdays</th>\n",
       "      <th>previous</th>\n",
       "      <th>poutcome</th>\n",
       "      <th>y</th>\n",
       "    </tr>\n",
       "  </thead>\n",
       "  <tbody>\n",
       "    <tr>\n",
       "      <td>count</td>\n",
       "      <td>45211.000000</td>\n",
       "      <td>45211.000000</td>\n",
       "      <td>45211.000000</td>\n",
       "      <td>45211.000000</td>\n",
       "      <td>45211.000000</td>\n",
       "      <td>45211.000000</td>\n",
       "      <td>45211.000000</td>\n",
       "      <td>45211.000000</td>\n",
       "      <td>45211.000000</td>\n",
       "      <td>45211.000000</td>\n",
       "      <td>45211.000000</td>\n",
       "      <td>45211.000000</td>\n",
       "      <td>45211.000000</td>\n",
       "      <td>45211.000000</td>\n",
       "      <td>45211.000000</td>\n",
       "      <td>45211.000000</td>\n",
       "      <td>45211.000000</td>\n",
       "    </tr>\n",
       "    <tr>\n",
       "      <td>mean</td>\n",
       "      <td>40.936210</td>\n",
       "      <td>3.526133</td>\n",
       "      <td>0.513238</td>\n",
       "      <td>1.049944</td>\n",
       "      <td>0.018027</td>\n",
       "      <td>1362.272058</td>\n",
       "      <td>0.555838</td>\n",
       "      <td>0.160226</td>\n",
       "      <td>0.776293</td>\n",
       "      <td>15.806419</td>\n",
       "      <td>6.144655</td>\n",
       "      <td>258.163080</td>\n",
       "      <td>2.763841</td>\n",
       "      <td>40.197828</td>\n",
       "      <td>0.580323</td>\n",
       "      <td>0.175245</td>\n",
       "      <td>0.116985</td>\n",
       "    </tr>\n",
       "    <tr>\n",
       "      <td>std</td>\n",
       "      <td>10.618762</td>\n",
       "      <td>3.098343</td>\n",
       "      <td>0.692948</td>\n",
       "      <td>0.968986</td>\n",
       "      <td>0.133049</td>\n",
       "      <td>3044.765829</td>\n",
       "      <td>0.496878</td>\n",
       "      <td>0.366820</td>\n",
       "      <td>0.549747</td>\n",
       "      <td>8.322476</td>\n",
       "      <td>2.408034</td>\n",
       "      <td>257.527812</td>\n",
       "      <td>3.098021</td>\n",
       "      <td>100.128746</td>\n",
       "      <td>2.303441</td>\n",
       "      <td>0.459762</td>\n",
       "      <td>0.321406</td>\n",
       "    </tr>\n",
       "    <tr>\n",
       "      <td>min</td>\n",
       "      <td>18.000000</td>\n",
       "      <td>0.000000</td>\n",
       "      <td>0.000000</td>\n",
       "      <td>0.000000</td>\n",
       "      <td>0.000000</td>\n",
       "      <td>-8019.000000</td>\n",
       "      <td>0.000000</td>\n",
       "      <td>0.000000</td>\n",
       "      <td>0.000000</td>\n",
       "      <td>1.000000</td>\n",
       "      <td>1.000000</td>\n",
       "      <td>0.000000</td>\n",
       "      <td>1.000000</td>\n",
       "      <td>-1.000000</td>\n",
       "      <td>0.000000</td>\n",
       "      <td>0.000000</td>\n",
       "      <td>0.000000</td>\n",
       "    </tr>\n",
       "    <tr>\n",
       "      <td>25%</td>\n",
       "      <td>33.000000</td>\n",
       "      <td>1.000000</td>\n",
       "      <td>0.000000</td>\n",
       "      <td>0.000000</td>\n",
       "      <td>0.000000</td>\n",
       "      <td>72.000000</td>\n",
       "      <td>0.000000</td>\n",
       "      <td>0.000000</td>\n",
       "      <td>0.000000</td>\n",
       "      <td>8.000000</td>\n",
       "      <td>5.000000</td>\n",
       "      <td>103.000000</td>\n",
       "      <td>1.000000</td>\n",
       "      <td>-1.000000</td>\n",
       "      <td>0.000000</td>\n",
       "      <td>0.000000</td>\n",
       "      <td>0.000000</td>\n",
       "    </tr>\n",
       "    <tr>\n",
       "      <td>50%</td>\n",
       "      <td>39.000000</td>\n",
       "      <td>3.000000</td>\n",
       "      <td>0.000000</td>\n",
       "      <td>1.000000</td>\n",
       "      <td>0.000000</td>\n",
       "      <td>448.000000</td>\n",
       "      <td>1.000000</td>\n",
       "      <td>0.000000</td>\n",
       "      <td>1.000000</td>\n",
       "      <td>16.000000</td>\n",
       "      <td>6.000000</td>\n",
       "      <td>180.000000</td>\n",
       "      <td>2.000000</td>\n",
       "      <td>-1.000000</td>\n",
       "      <td>0.000000</td>\n",
       "      <td>0.000000</td>\n",
       "      <td>0.000000</td>\n",
       "    </tr>\n",
       "    <tr>\n",
       "      <td>75%</td>\n",
       "      <td>48.000000</td>\n",
       "      <td>6.000000</td>\n",
       "      <td>1.000000</td>\n",
       "      <td>1.000000</td>\n",
       "      <td>0.000000</td>\n",
       "      <td>1428.000000</td>\n",
       "      <td>1.000000</td>\n",
       "      <td>0.000000</td>\n",
       "      <td>1.000000</td>\n",
       "      <td>21.000000</td>\n",
       "      <td>8.000000</td>\n",
       "      <td>319.000000</td>\n",
       "      <td>3.000000</td>\n",
       "      <td>-1.000000</td>\n",
       "      <td>0.000000</td>\n",
       "      <td>0.000000</td>\n",
       "      <td>0.000000</td>\n",
       "    </tr>\n",
       "    <tr>\n",
       "      <td>max</td>\n",
       "      <td>95.000000</td>\n",
       "      <td>11.000000</td>\n",
       "      <td>2.000000</td>\n",
       "      <td>3.000000</td>\n",
       "      <td>1.000000</td>\n",
       "      <td>102127.000000</td>\n",
       "      <td>1.000000</td>\n",
       "      <td>1.000000</td>\n",
       "      <td>2.000000</td>\n",
       "      <td>31.000000</td>\n",
       "      <td>12.000000</td>\n",
       "      <td>4918.000000</td>\n",
       "      <td>63.000000</td>\n",
       "      <td>871.000000</td>\n",
       "      <td>275.000000</td>\n",
       "      <td>2.000000</td>\n",
       "      <td>1.000000</td>\n",
       "    </tr>\n",
       "  </tbody>\n",
       "</table>\n",
       "</div>"
      ],
      "text/plain": [
       "                age           job       marital     education       default  \\\n",
       "count  45211.000000  45211.000000  45211.000000  45211.000000  45211.000000   \n",
       "mean      40.936210      3.526133      0.513238      1.049944      0.018027   \n",
       "std       10.618762      3.098343      0.692948      0.968986      0.133049   \n",
       "min       18.000000      0.000000      0.000000      0.000000      0.000000   \n",
       "25%       33.000000      1.000000      0.000000      0.000000      0.000000   \n",
       "50%       39.000000      3.000000      0.000000      1.000000      0.000000   \n",
       "75%       48.000000      6.000000      1.000000      1.000000      0.000000   \n",
       "max       95.000000     11.000000      2.000000      3.000000      1.000000   \n",
       "\n",
       "             balance       housing          loan       contact           day  \\\n",
       "count   45211.000000  45211.000000  45211.000000  45211.000000  45211.000000   \n",
       "mean     1362.272058      0.555838      0.160226      0.776293     15.806419   \n",
       "std      3044.765829      0.496878      0.366820      0.549747      8.322476   \n",
       "min     -8019.000000      0.000000      0.000000      0.000000      1.000000   \n",
       "25%        72.000000      0.000000      0.000000      0.000000      8.000000   \n",
       "50%       448.000000      1.000000      0.000000      1.000000     16.000000   \n",
       "75%      1428.000000      1.000000      0.000000      1.000000     21.000000   \n",
       "max    102127.000000      1.000000      1.000000      2.000000     31.000000   \n",
       "\n",
       "              month      duration      campaign         pdays      previous  \\\n",
       "count  45211.000000  45211.000000  45211.000000  45211.000000  45211.000000   \n",
       "mean       6.144655    258.163080      2.763841     40.197828      0.580323   \n",
       "std        2.408034    257.527812      3.098021    100.128746      2.303441   \n",
       "min        1.000000      0.000000      1.000000     -1.000000      0.000000   \n",
       "25%        5.000000    103.000000      1.000000     -1.000000      0.000000   \n",
       "50%        6.000000    180.000000      2.000000     -1.000000      0.000000   \n",
       "75%        8.000000    319.000000      3.000000     -1.000000      0.000000   \n",
       "max       12.000000   4918.000000     63.000000    871.000000    275.000000   \n",
       "\n",
       "           poutcome             y  \n",
       "count  45211.000000  45211.000000  \n",
       "mean       0.175245      0.116985  \n",
       "std        0.459762      0.321406  \n",
       "min        0.000000      0.000000  \n",
       "25%        0.000000      0.000000  \n",
       "50%        0.000000      0.000000  \n",
       "75%        0.000000      0.000000  \n",
       "max        2.000000      1.000000  "
      ]
     },
     "execution_count": 83,
     "metadata": {},
     "output_type": "execute_result"
    }
   ],
   "source": [
    "data_cat.describe()\n"
   ]
  },
  {
   "cell_type": "code",
   "execution_count": 84,
   "metadata": {},
   "outputs": [
    {
     "data": {
      "text/html": [
       "<div>\n",
       "<style scoped>\n",
       "    .dataframe tbody tr th:only-of-type {\n",
       "        vertical-align: middle;\n",
       "    }\n",
       "\n",
       "    .dataframe tbody tr th {\n",
       "        vertical-align: top;\n",
       "    }\n",
       "\n",
       "    .dataframe thead th {\n",
       "        text-align: right;\n",
       "    }\n",
       "</style>\n",
       "<table border=\"1\" class=\"dataframe\">\n",
       "  <thead>\n",
       "    <tr style=\"text-align: right;\">\n",
       "      <th></th>\n",
       "      <th>age</th>\n",
       "      <th>job</th>\n",
       "      <th>marital</th>\n",
       "      <th>education</th>\n",
       "      <th>default</th>\n",
       "      <th>balance</th>\n",
       "      <th>housing</th>\n",
       "      <th>loan</th>\n",
       "      <th>contact</th>\n",
       "      <th>day</th>\n",
       "      <th>month</th>\n",
       "      <th>duration</th>\n",
       "      <th>campaign</th>\n",
       "      <th>pdays</th>\n",
       "      <th>previous</th>\n",
       "      <th>poutcome</th>\n",
       "      <th>y</th>\n",
       "    </tr>\n",
       "  </thead>\n",
       "  <tbody>\n",
       "    <tr>\n",
       "      <td>age</td>\n",
       "      <td>1.000000</td>\n",
       "      <td>0.004262</td>\n",
       "      <td>-0.126351</td>\n",
       "      <td>0.197850</td>\n",
       "      <td>-0.017879</td>\n",
       "      <td>0.097783</td>\n",
       "      <td>-0.185513</td>\n",
       "      <td>-0.015655</td>\n",
       "      <td>0.092577</td>\n",
       "      <td>-0.009120</td>\n",
       "      <td>0.092903</td>\n",
       "      <td>-0.004648</td>\n",
       "      <td>0.004760</td>\n",
       "      <td>-0.023758</td>\n",
       "      <td>0.001288</td>\n",
       "      <td>0.024445</td>\n",
       "      <td>0.025155</td>\n",
       "    </tr>\n",
       "    <tr>\n",
       "      <td>job</td>\n",
       "      <td>0.004262</td>\n",
       "      <td>1.000000</td>\n",
       "      <td>0.025000</td>\n",
       "      <td>0.259541</td>\n",
       "      <td>-0.007340</td>\n",
       "      <td>-0.029654</td>\n",
       "      <td>-0.041317</td>\n",
       "      <td>-0.012578</td>\n",
       "      <td>0.001588</td>\n",
       "      <td>-0.027535</td>\n",
       "      <td>-0.064629</td>\n",
       "      <td>0.008166</td>\n",
       "      <td>-0.035410</td>\n",
       "      <td>0.007492</td>\n",
       "      <td>-0.006466</td>\n",
       "      <td>0.009789</td>\n",
       "      <td>0.022396</td>\n",
       "    </tr>\n",
       "    <tr>\n",
       "      <td>marital</td>\n",
       "      <td>-0.126351</td>\n",
       "      <td>0.025000</td>\n",
       "      <td>1.000000</td>\n",
       "      <td>-0.109133</td>\n",
       "      <td>0.018404</td>\n",
       "      <td>-0.028172</td>\n",
       "      <td>-0.011671</td>\n",
       "      <td>-0.018526</td>\n",
       "      <td>-0.014290</td>\n",
       "      <td>-0.005217</td>\n",
       "      <td>-0.044321</td>\n",
       "      <td>0.018834</td>\n",
       "      <td>-0.029294</td>\n",
       "      <td>0.020832</td>\n",
       "      <td>0.006876</td>\n",
       "      <td>0.008721</td>\n",
       "      <td>0.043846</td>\n",
       "    </tr>\n",
       "    <tr>\n",
       "      <td>education</td>\n",
       "      <td>0.197850</td>\n",
       "      <td>0.259541</td>\n",
       "      <td>-0.109133</td>\n",
       "      <td>1.000000</td>\n",
       "      <td>0.008114</td>\n",
       "      <td>-0.048649</td>\n",
       "      <td>0.044788</td>\n",
       "      <td>0.002191</td>\n",
       "      <td>-0.068756</td>\n",
       "      <td>-0.024666</td>\n",
       "      <td>-0.061310</td>\n",
       "      <td>-0.003267</td>\n",
       "      <td>0.002234</td>\n",
       "      <td>-0.010713</td>\n",
       "      <td>-0.024818</td>\n",
       "      <td>-0.048394</td>\n",
       "      <td>-0.058675</td>\n",
       "    </tr>\n",
       "    <tr>\n",
       "      <td>default</td>\n",
       "      <td>-0.017879</td>\n",
       "      <td>-0.007340</td>\n",
       "      <td>0.018404</td>\n",
       "      <td>0.008114</td>\n",
       "      <td>1.000000</td>\n",
       "      <td>-0.066745</td>\n",
       "      <td>-0.006025</td>\n",
       "      <td>0.077234</td>\n",
       "      <td>-0.024095</td>\n",
       "      <td>0.009424</td>\n",
       "      <td>0.014989</td>\n",
       "      <td>-0.010021</td>\n",
       "      <td>0.016822</td>\n",
       "      <td>-0.029979</td>\n",
       "      <td>-0.018329</td>\n",
       "      <td>-0.036096</td>\n",
       "      <td>-0.022419</td>\n",
       "    </tr>\n",
       "    <tr>\n",
       "      <td>balance</td>\n",
       "      <td>0.097783</td>\n",
       "      <td>-0.029654</td>\n",
       "      <td>-0.028172</td>\n",
       "      <td>-0.048649</td>\n",
       "      <td>-0.066745</td>\n",
       "      <td>1.000000</td>\n",
       "      <td>-0.068768</td>\n",
       "      <td>-0.084350</td>\n",
       "      <td>0.047701</td>\n",
       "      <td>0.004503</td>\n",
       "      <td>0.094605</td>\n",
       "      <td>0.021560</td>\n",
       "      <td>-0.014578</td>\n",
       "      <td>0.003435</td>\n",
       "      <td>0.016674</td>\n",
       "      <td>0.035571</td>\n",
       "      <td>0.052838</td>\n",
       "    </tr>\n",
       "    <tr>\n",
       "      <td>housing</td>\n",
       "      <td>-0.185513</td>\n",
       "      <td>-0.041317</td>\n",
       "      <td>-0.011671</td>\n",
       "      <td>0.044788</td>\n",
       "      <td>-0.006025</td>\n",
       "      <td>-0.068768</td>\n",
       "      <td>1.000000</td>\n",
       "      <td>0.041323</td>\n",
       "      <td>-0.207722</td>\n",
       "      <td>-0.027982</td>\n",
       "      <td>-0.173887</td>\n",
       "      <td>0.005075</td>\n",
       "      <td>-0.023599</td>\n",
       "      <td>0.124178</td>\n",
       "      <td>0.037076</td>\n",
       "      <td>0.000784</td>\n",
       "      <td>-0.139173</td>\n",
       "    </tr>\n",
       "    <tr>\n",
       "      <td>loan</td>\n",
       "      <td>-0.015655</td>\n",
       "      <td>-0.012578</td>\n",
       "      <td>-0.018526</td>\n",
       "      <td>0.002191</td>\n",
       "      <td>0.077234</td>\n",
       "      <td>-0.084350</td>\n",
       "      <td>0.041323</td>\n",
       "      <td>1.000000</td>\n",
       "      <td>0.000058</td>\n",
       "      <td>0.011370</td>\n",
       "      <td>0.021638</td>\n",
       "      <td>-0.012412</td>\n",
       "      <td>0.009980</td>\n",
       "      <td>-0.022754</td>\n",
       "      <td>-0.011043</td>\n",
       "      <td>-0.043474</td>\n",
       "      <td>-0.068185</td>\n",
       "    </tr>\n",
       "    <tr>\n",
       "      <td>contact</td>\n",
       "      <td>0.092577</td>\n",
       "      <td>0.001588</td>\n",
       "      <td>-0.014290</td>\n",
       "      <td>-0.068756</td>\n",
       "      <td>-0.024095</td>\n",
       "      <td>0.047701</td>\n",
       "      <td>-0.207722</td>\n",
       "      <td>0.000058</td>\n",
       "      <td>1.000000</td>\n",
       "      <td>0.038643</td>\n",
       "      <td>0.167103</td>\n",
       "      <td>0.001494</td>\n",
       "      <td>0.020046</td>\n",
       "      <td>0.210651</td>\n",
       "      <td>0.139518</td>\n",
       "      <td>0.200091</td>\n",
       "      <td>0.130590</td>\n",
       "    </tr>\n",
       "    <tr>\n",
       "      <td>day</td>\n",
       "      <td>-0.009120</td>\n",
       "      <td>-0.027535</td>\n",
       "      <td>-0.005217</td>\n",
       "      <td>-0.024666</td>\n",
       "      <td>0.009424</td>\n",
       "      <td>0.004503</td>\n",
       "      <td>-0.027982</td>\n",
       "      <td>0.011370</td>\n",
       "      <td>0.038643</td>\n",
       "      <td>1.000000</td>\n",
       "      <td>0.101989</td>\n",
       "      <td>-0.030206</td>\n",
       "      <td>0.162490</td>\n",
       "      <td>-0.093044</td>\n",
       "      <td>-0.051710</td>\n",
       "      <td>-0.070162</td>\n",
       "      <td>-0.028348</td>\n",
       "    </tr>\n",
       "    <tr>\n",
       "      <td>month</td>\n",
       "      <td>0.092903</td>\n",
       "      <td>-0.064629</td>\n",
       "      <td>-0.044321</td>\n",
       "      <td>-0.061310</td>\n",
       "      <td>0.014989</td>\n",
       "      <td>0.094605</td>\n",
       "      <td>-0.173887</td>\n",
       "      <td>0.021638</td>\n",
       "      <td>0.167103</td>\n",
       "      <td>0.101989</td>\n",
       "      <td>1.000000</td>\n",
       "      <td>-0.011866</td>\n",
       "      <td>0.054868</td>\n",
       "      <td>-0.108940</td>\n",
       "      <td>-0.035600</td>\n",
       "      <td>-0.011490</td>\n",
       "      <td>0.018717</td>\n",
       "    </tr>\n",
       "    <tr>\n",
       "      <td>duration</td>\n",
       "      <td>-0.004648</td>\n",
       "      <td>0.008166</td>\n",
       "      <td>0.018834</td>\n",
       "      <td>-0.003267</td>\n",
       "      <td>-0.010021</td>\n",
       "      <td>0.021560</td>\n",
       "      <td>0.005075</td>\n",
       "      <td>-0.012412</td>\n",
       "      <td>0.001494</td>\n",
       "      <td>-0.030206</td>\n",
       "      <td>-0.011866</td>\n",
       "      <td>1.000000</td>\n",
       "      <td>-0.084570</td>\n",
       "      <td>-0.001565</td>\n",
       "      <td>0.001203</td>\n",
       "      <td>0.020345</td>\n",
       "      <td>0.394521</td>\n",
       "    </tr>\n",
       "    <tr>\n",
       "      <td>campaign</td>\n",
       "      <td>0.004760</td>\n",
       "      <td>-0.035410</td>\n",
       "      <td>-0.029294</td>\n",
       "      <td>0.002234</td>\n",
       "      <td>0.016822</td>\n",
       "      <td>-0.014578</td>\n",
       "      <td>-0.023599</td>\n",
       "      <td>0.009980</td>\n",
       "      <td>0.020046</td>\n",
       "      <td>0.162490</td>\n",
       "      <td>0.054868</td>\n",
       "      <td>-0.084570</td>\n",
       "      <td>1.000000</td>\n",
       "      <td>-0.088628</td>\n",
       "      <td>-0.032855</td>\n",
       "      <td>-0.104541</td>\n",
       "      <td>-0.073172</td>\n",
       "    </tr>\n",
       "    <tr>\n",
       "      <td>pdays</td>\n",
       "      <td>-0.023758</td>\n",
       "      <td>0.007492</td>\n",
       "      <td>0.020832</td>\n",
       "      <td>-0.010713</td>\n",
       "      <td>-0.029979</td>\n",
       "      <td>0.003435</td>\n",
       "      <td>0.124178</td>\n",
       "      <td>-0.022754</td>\n",
       "      <td>0.210651</td>\n",
       "      <td>-0.093044</td>\n",
       "      <td>-0.108940</td>\n",
       "      <td>-0.001565</td>\n",
       "      <td>-0.088628</td>\n",
       "      <td>1.000000</td>\n",
       "      <td>0.454820</td>\n",
       "      <td>0.652739</td>\n",
       "      <td>0.103621</td>\n",
       "    </tr>\n",
       "    <tr>\n",
       "      <td>previous</td>\n",
       "      <td>0.001288</td>\n",
       "      <td>-0.006466</td>\n",
       "      <td>0.006876</td>\n",
       "      <td>-0.024818</td>\n",
       "      <td>-0.018329</td>\n",
       "      <td>0.016674</td>\n",
       "      <td>0.037076</td>\n",
       "      <td>-0.011043</td>\n",
       "      <td>0.139518</td>\n",
       "      <td>-0.051710</td>\n",
       "      <td>-0.035600</td>\n",
       "      <td>0.001203</td>\n",
       "      <td>-0.032855</td>\n",
       "      <td>0.454820</td>\n",
       "      <td>1.000000</td>\n",
       "      <td>0.394581</td>\n",
       "      <td>0.093236</td>\n",
       "    </tr>\n",
       "    <tr>\n",
       "      <td>poutcome</td>\n",
       "      <td>0.024445</td>\n",
       "      <td>0.009789</td>\n",
       "      <td>0.008721</td>\n",
       "      <td>-0.048394</td>\n",
       "      <td>-0.036096</td>\n",
       "      <td>0.035571</td>\n",
       "      <td>0.000784</td>\n",
       "      <td>-0.043474</td>\n",
       "      <td>0.200091</td>\n",
       "      <td>-0.070162</td>\n",
       "      <td>-0.011490</td>\n",
       "      <td>0.020345</td>\n",
       "      <td>-0.104541</td>\n",
       "      <td>0.652739</td>\n",
       "      <td>0.394581</td>\n",
       "      <td>1.000000</td>\n",
       "      <td>0.246551</td>\n",
       "    </tr>\n",
       "    <tr>\n",
       "      <td>y</td>\n",
       "      <td>0.025155</td>\n",
       "      <td>0.022396</td>\n",
       "      <td>0.043846</td>\n",
       "      <td>-0.058675</td>\n",
       "      <td>-0.022419</td>\n",
       "      <td>0.052838</td>\n",
       "      <td>-0.139173</td>\n",
       "      <td>-0.068185</td>\n",
       "      <td>0.130590</td>\n",
       "      <td>-0.028348</td>\n",
       "      <td>0.018717</td>\n",
       "      <td>0.394521</td>\n",
       "      <td>-0.073172</td>\n",
       "      <td>0.103621</td>\n",
       "      <td>0.093236</td>\n",
       "      <td>0.246551</td>\n",
       "      <td>1.000000</td>\n",
       "    </tr>\n",
       "  </tbody>\n",
       "</table>\n",
       "</div>"
      ],
      "text/plain": [
       "                age       job   marital  education   default   balance  \\\n",
       "age        1.000000  0.004262 -0.126351   0.197850 -0.017879  0.097783   \n",
       "job        0.004262  1.000000  0.025000   0.259541 -0.007340 -0.029654   \n",
       "marital   -0.126351  0.025000  1.000000  -0.109133  0.018404 -0.028172   \n",
       "education  0.197850  0.259541 -0.109133   1.000000  0.008114 -0.048649   \n",
       "default   -0.017879 -0.007340  0.018404   0.008114  1.000000 -0.066745   \n",
       "balance    0.097783 -0.029654 -0.028172  -0.048649 -0.066745  1.000000   \n",
       "housing   -0.185513 -0.041317 -0.011671   0.044788 -0.006025 -0.068768   \n",
       "loan      -0.015655 -0.012578 -0.018526   0.002191  0.077234 -0.084350   \n",
       "contact    0.092577  0.001588 -0.014290  -0.068756 -0.024095  0.047701   \n",
       "day       -0.009120 -0.027535 -0.005217  -0.024666  0.009424  0.004503   \n",
       "month      0.092903 -0.064629 -0.044321  -0.061310  0.014989  0.094605   \n",
       "duration  -0.004648  0.008166  0.018834  -0.003267 -0.010021  0.021560   \n",
       "campaign   0.004760 -0.035410 -0.029294   0.002234  0.016822 -0.014578   \n",
       "pdays     -0.023758  0.007492  0.020832  -0.010713 -0.029979  0.003435   \n",
       "previous   0.001288 -0.006466  0.006876  -0.024818 -0.018329  0.016674   \n",
       "poutcome   0.024445  0.009789  0.008721  -0.048394 -0.036096  0.035571   \n",
       "y          0.025155  0.022396  0.043846  -0.058675 -0.022419  0.052838   \n",
       "\n",
       "            housing      loan   contact       day     month  duration  \\\n",
       "age       -0.185513 -0.015655  0.092577 -0.009120  0.092903 -0.004648   \n",
       "job       -0.041317 -0.012578  0.001588 -0.027535 -0.064629  0.008166   \n",
       "marital   -0.011671 -0.018526 -0.014290 -0.005217 -0.044321  0.018834   \n",
       "education  0.044788  0.002191 -0.068756 -0.024666 -0.061310 -0.003267   \n",
       "default   -0.006025  0.077234 -0.024095  0.009424  0.014989 -0.010021   \n",
       "balance   -0.068768 -0.084350  0.047701  0.004503  0.094605  0.021560   \n",
       "housing    1.000000  0.041323 -0.207722 -0.027982 -0.173887  0.005075   \n",
       "loan       0.041323  1.000000  0.000058  0.011370  0.021638 -0.012412   \n",
       "contact   -0.207722  0.000058  1.000000  0.038643  0.167103  0.001494   \n",
       "day       -0.027982  0.011370  0.038643  1.000000  0.101989 -0.030206   \n",
       "month     -0.173887  0.021638  0.167103  0.101989  1.000000 -0.011866   \n",
       "duration   0.005075 -0.012412  0.001494 -0.030206 -0.011866  1.000000   \n",
       "campaign  -0.023599  0.009980  0.020046  0.162490  0.054868 -0.084570   \n",
       "pdays      0.124178 -0.022754  0.210651 -0.093044 -0.108940 -0.001565   \n",
       "previous   0.037076 -0.011043  0.139518 -0.051710 -0.035600  0.001203   \n",
       "poutcome   0.000784 -0.043474  0.200091 -0.070162 -0.011490  0.020345   \n",
       "y         -0.139173 -0.068185  0.130590 -0.028348  0.018717  0.394521   \n",
       "\n",
       "           campaign     pdays  previous  poutcome         y  \n",
       "age        0.004760 -0.023758  0.001288  0.024445  0.025155  \n",
       "job       -0.035410  0.007492 -0.006466  0.009789  0.022396  \n",
       "marital   -0.029294  0.020832  0.006876  0.008721  0.043846  \n",
       "education  0.002234 -0.010713 -0.024818 -0.048394 -0.058675  \n",
       "default    0.016822 -0.029979 -0.018329 -0.036096 -0.022419  \n",
       "balance   -0.014578  0.003435  0.016674  0.035571  0.052838  \n",
       "housing   -0.023599  0.124178  0.037076  0.000784 -0.139173  \n",
       "loan       0.009980 -0.022754 -0.011043 -0.043474 -0.068185  \n",
       "contact    0.020046  0.210651  0.139518  0.200091  0.130590  \n",
       "day        0.162490 -0.093044 -0.051710 -0.070162 -0.028348  \n",
       "month      0.054868 -0.108940 -0.035600 -0.011490  0.018717  \n",
       "duration  -0.084570 -0.001565  0.001203  0.020345  0.394521  \n",
       "campaign   1.000000 -0.088628 -0.032855 -0.104541 -0.073172  \n",
       "pdays     -0.088628  1.000000  0.454820  0.652739  0.103621  \n",
       "previous  -0.032855  0.454820  1.000000  0.394581  0.093236  \n",
       "poutcome  -0.104541  0.652739  0.394581  1.000000  0.246551  \n",
       "y         -0.073172  0.103621  0.093236  0.246551  1.000000  "
      ]
     },
     "execution_count": 84,
     "metadata": {},
     "output_type": "execute_result"
    }
   ],
   "source": [
    "corr = data_cat.corr()\n",
    "corr"
   ]
  },
  {
   "cell_type": "code",
   "execution_count": 85,
   "metadata": {},
   "outputs": [
    {
     "data": {
      "text/plain": [
       "Text(0.5, 1, 'Heatmap of Correlation Matrix')"
      ]
     },
     "execution_count": 85,
     "metadata": {},
     "output_type": "execute_result"
    },
    {
     "data": {
      "image/png": "[encoded data removed]",
      "text/plain": [
       "<Figure size 720x720 with 2 Axes>"
      ]
     },
     "metadata": {
      "needs_background": "light"
     },
     "output_type": "display_data"
    }
   ],
   "source": [
    "# Heatmap\n",
    "plt.figure(figsize = (10,10))\n",
    "cmap = sns.diverging_palette(220, 10, as_cmap=True)\n",
    "sns.heatmap(corr, xticklabels=corr.columns.values, yticklabels=corr.columns.values, cmap=cmap, vmax=.3, center=0, square=True, linewidths=.5, cbar_kws={\"shrink\": .82})\n",
    "plt.title('Heatmap of Correlation Matrix')"
   ]
  },
  {
   "cell_type": "markdown",
   "metadata": {},
   "source": [
    "Inference from the heat map : The target variable y has a very strong positive correlation to two variables - 'duration' and 'poutcome'. The target variable has positive correlatition with other variables like 'previous', 'pdays', 'contact', 'balance', 'age', 'job' and 'marital'. \n",
    "\n",
    "The target variable has negative correlation with 'housing', 'default', 'loan' and 'education'."
   ]
  },
  {
   "cell_type": "markdown",
   "metadata": {},
   "source": [
    "# PCA"
   ]
  },
  {
   "cell_type": "code",
   "execution_count": 231,
   "metadata": {},
   "outputs": [],
   "source": [
    "\n",
    "pca_samples = data_cat.copy()\n",
    "pca_y = pca_samples.iloc[:,16]\n",
    "pca_x = pca_samples.iloc[:,:16]\n"
   ]
  },
  {
   "cell_type": "code",
   "execution_count": 232,
   "metadata": {},
   "outputs": [
    {
     "data": {
      "image/png": "[encoded data removed]",
      "text/plain": [
       "<Figure size 432x288 with 1 Axes>"
      ]
     },
     "metadata": {
      "needs_background": "light"
     },
     "output_type": "display_data"
    }
   ],
   "source": [
    "# Create scaler: scaler\n",
    "scaler = StandardScaler()\n",
    "\n",
    "# Create a PCA instance: pca\n",
    "pca = PCA()\n",
    "\n",
    "# Create pipeline: pipeline\n",
    "pipeline = make_pipeline(scaler, pca)\n",
    "\n",
    "# Fit the pipeline to 'samples'\n",
    "pipeline.fit(pca_x)\n",
    "\n",
    "# Plot the explained variances\n",
    "features = range(1, pca.n_components_ + 1)\n",
    "plt.bar(features , pca.explained_variance_)\n",
    "plt.xlabel('PCA feature')\n",
    "plt.ylabel('Explained Variance')\n",
    "plt.title('Eplained Variance by components')\n",
    "plt.xticks(features)\n",
    "plt.show()\n"
   ]
  },
  {
   "cell_type": "code",
   "execution_count": 233,
   "metadata": {},
   "outputs": [
    {
     "name": "stdout",
     "output_type": "stream",
     "text": [
      "(45211, 3)\n"
     ]
    },
    {
     "name": "stderr",
     "output_type": "stream",
     "text": [
      "/Users/jyothirmayeen/opt/anaconda3/lib/python3.7/site-packages/matplotlib/collections.py:857: RuntimeWarning: invalid value encountered in sqrt\n",
      "  scale = np.sqrt(self._sizes) * dpi / 72.0 * self._factor\n"
     ]
    },
    {
     "data": {
      "image/png": "[encoded data removed]",
      "text/plain": [
       "<Figure size 1080x576 with 1 Axes>"
      ]
     },
     "metadata": {
      "needs_background": "light"
     },
     "output_type": "display_data"
    }
   ],
   "source": [
    "\n",
    "# Create a PCA model with 2 components: pca\n",
    "pca = PCA(n_components=3)\n",
    "\n",
    "# Fit the PCA instance to the scaled samples\n",
    "pca.fit(pca_x)\n",
    "\n",
    "# Transform the scaled samples: pca_features\n",
    "pca_features = pca.transform(pca_x)\n",
    "\n",
    "# Print the shape of pca_features\n",
    "print(pca_features.shape)\n",
    "\n",
    "pca_features_1 = pca_features[pca_y == 1]\n",
    "pca_features_0 = pca_features[pca_y == 0]\n",
    "plt.figure(figsize = (15,8))\n",
    "plt.scatter(pca_features_1[:,0], pca_features_1[:,1], pca_features_1[:,2], color = 'red', label = 'y=1', edgecolors = 'k', alpha = 1)\n",
    "plt.scatter(pca_features_0[:,0], pca_features_0[:,1], pca_features_1[:,2], color = 'blue', label = 'y=0', edgecolors = 'k', alpha = 0.25)\n",
    "\n",
    "#idx = pca_y == 1\n",
    "#plt.scatter(pca_features[:,0], pca_features[:,1], edgecolors = 'k', c=pca_features[pca_y == 0], alpha = 0.1, label = ['Red : 0', 'Blue : 1'])\n",
    "plt.legend()\n",
    "plt.show()\n",
    "\n"
   ]
  },
  {
   "cell_type": "markdown",
   "metadata": {},
   "source": [
    "# Model"
   ]
  },
  {
   "cell_type": "markdown",
   "metadata": {},
   "source": [
    "## up-sampling"
   ]
  },
  {
   "cell_type": "code",
   "execution_count": 257,
   "metadata": {},
   "outputs": [
    {
     "name": "stdout",
     "output_type": "stream",
     "text": [
      "1    39922\n",
      "0    39922\n",
      "Name: y, dtype: int64\n"
     ]
    }
   ],
   "source": [
    "\n",
    "data_cat_majority = data_cat[data_cat.y == 0]\n",
    "data_cat_minority = data_cat[data_cat.y == 1]\n",
    "\n",
    "# Upsample minority class\n",
    "data_cat_minority_upsampled = resample(data_cat_minority, \n",
    "                                 replace=True,     # sample with replacement\n",
    "                                 n_samples=len(data_cat_majority),    # to match majority class\n",
    "                                 random_state=123) # reproducible results\n",
    " \n",
    "# Combine majority class with upsampled minority class\n",
    "data_cat_upsampled = pd.concat([data_cat_majority, data_cat_minority_upsampled])\n",
    " \n",
    "# Display new class counts\n",
    "print(data_cat_upsampled.y.value_counts())\n",
    "\n",
    "\n",
    "X = data_cat_upsampled.iloc[:,:16]\n",
    "y = data_cat_upsampled.iloc[:,16]\n"
   ]
  },
  {
   "cell_type": "code",
   "execution_count": 276,
   "metadata": {},
   "outputs": [],
   "source": [
    "#test-train split in the ratio of 4:1\n",
    "X_train, X_test, y_train, y_test = train_test_split(X, y, test_size = 0.2, random_state = 101)\n",
    "\n",
    "#k-fold split for future use\n",
    "k_fold = StratifiedKFold(n_splits=10, shuffle=True, random_state=0)\n"
   ]
  },
  {
   "cell_type": "code",
   "execution_count": 279,
   "metadata": {},
   "outputs": [],
   "source": [
    "# Standard scalar\n",
    "sc_X = StandardScaler()\n",
    "X_train = sc_X.fit_transform(X_train)\n",
    "X_test = sc_X.transform(X_test)\n"
   ]
  },
  {
   "cell_type": "code",
   "execution_count": 280,
   "metadata": {},
   "outputs": [],
   "source": [
    "# Function to compute Matthew's correlation coefficient\n",
    "\n",
    "def MCC(conf_matrix):\n",
    "    TP = conf_matrix[0,0]\n",
    "    FP = conf_matrix[0,1]\n",
    "    FN = conf_matrix[1,0]\n",
    "    TN = conf_matrix[1,1]\n",
    "    numerator = (TP * TN) - (FP * FN)\n",
    "    denominator = np.sqrt((TP + FP) * (TP + FN) * (TN + FP) * (TN + FN))\n",
    "    return numerator/ denominator\n"
   ]
  },
  {
   "cell_type": "markdown",
   "metadata": {},
   "source": [
    "## Logistic regression"
   ]
  },
  {
   "cell_type": "code",
   "execution_count": 281,
   "metadata": {},
   "outputs": [
    {
     "name": "stdout",
     "output_type": "stream",
     "text": [
      "Training Accuracy score :  80.0\n",
      "Confusion matrix : \n",
      " [[26323  5672]\n",
      " [ 6805 25075]]\n",
      "Recall - train :  0.786543287327478\n",
      "MCC :  0.6096883269069305\n",
      "\n",
      "Testing Accuracy :  80.0\n",
      "Confusion matrix : \n",
      " [[6492 1435]\n",
      " [1705 6337]]\n",
      "Recall - test :  0.7879880626709773\n",
      "MCC :  0.6071605200439733\n"
     ]
    }
   ],
   "source": [
    "logmodel = LogisticRegression() \n",
    "logmodel.fit(X_train,y_train)\n",
    "#cvs_recall_logmodel = cross_val_score(logmodel, X_train, y_train, cv=k_fold, scoring='recall').mean()\n",
    "\n",
    "logpred_train = logmodel.predict(X_train)\n",
    "logpred_test = logmodel.predict(X_test)\n",
    "recall_train_logmod = recall_score(y_train, logpred_train)\n",
    "recall_test_logmod = recall_score(y_test, logpred_test)\n",
    "\n",
    "MCC_logcv_train = MCC(confusion_matrix(y_train, logpred_train))\n",
    "MCC_logcv_test = MCC(confusion_matrix(y_test, logpred_test))\n",
    "\n",
    "print(\"Training Accuracy score : \",round(accuracy_score(y_train, logpred_train),2)*100)\n",
    "print(\"Confusion matrix : \\n\", confusion_matrix(y_train, logpred_train))\n",
    "print(\"Recall - train : \", recall_train_logmod)\n",
    "print(\"MCC : \", MCC_logcv_train)\n",
    "\n",
    "print(\"\\nTesting Accuracy : \",round(accuracy_score(y_test, logpred_test),2)*100)\n",
    "print(\"Confusion matrix : \\n\", confusion_matrix(y_test, logpred_test))\n",
    "print(\"Recall - test : \", recall_test_logmod)\n",
    "print(\"MCC : \", MCC_logcv_test)\n"
   ]
  },
  {
   "cell_type": "code",
   "execution_count": null,
   "metadata": {},
   "outputs": [],
   "source": []
  },
  {
   "cell_type": "markdown",
   "metadata": {},
   "source": [
    "## KNN"
   ]
  },
  {
   "cell_type": "code",
   "execution_count": 94,
   "metadata": {},
   "outputs": [
    {
     "name": "stdout",
     "output_type": "stream",
     "text": [
      "k=1 94.93 (+/- 0.25)\n",
      "k=2 94.32 (+/- 0.30)\n",
      "k=3 91.17 (+/- 0.18)\n",
      "k=4 90.21 (+/- 0.16)\n",
      "k=5 88.00 (+/- 0.22)\n",
      "k=6 86.67 (+/- 0.37)\n",
      "k=7 85.23 (+/- 0.28)\n",
      "k=8 84.11 (+/- 0.32)\n",
      "k=9 83.23 (+/- 0.39)\n",
      "k=10 82.65 (+/- 0.39)\n",
      "k=11 82.03 (+/- 0.37)\n",
      "k=12 81.50 (+/- 0.44)\n",
      "k=13 81.18 (+/- 0.35)\n",
      "k=14 80.95 (+/- 0.30)\n",
      "k=15 80.74 (+/- 0.32)\n",
      "k=16 80.68 (+/- 0.42)\n",
      "k=17 80.53 (+/- 0.37)\n",
      "k=18 80.43 (+/- 0.42)\n",
      "k=19 80.35 (+/- 0.42)\n",
      "k=20 80.18 (+/- 0.46)\n",
      "k=21 80.08 (+/- 0.48)\n",
      "k=22 80.01 (+/- 0.51)\n",
      "k=23 79.91 (+/- 0.50)\n",
      "k=24 79.81 (+/- 0.52)\n",
      "k=25 79.73 (+/- 0.47)\n",
      "The optimal number of neighbors is 1 with 94.3%\n"
     ]
    },
    {
     "data": {
      "image/png": "[encoded data removed]",
      "text/plain": [
       "<Figure size 432x288 with 1 Axes>"
      ]
     },
     "metadata": {
      "needs_background": "light"
     },
     "output_type": "display_data"
    }
   ],
   "source": [
    "# Iterate to compute the optimal 'k'\n",
    "X_trainK, X_testK, y_trainK, y_testK = train_test_split(X, y, test_size = 0.2, random_state = 101)\n",
    "\n",
    "#Neighbors\n",
    "neighbors = np.arange(0,25)\n",
    "\n",
    "#Create empty list that will hold cv scores\n",
    "cv_scores = []\n",
    "\n",
    "#Perform 10-fold cross validation on training set for odd values of k:\n",
    "for k in neighbors:\n",
    "    k_value = k+1\n",
    "    knn = KNeighborsClassifier(n_neighbors = k_value, weights='uniform', p=2, metric='euclidean')\n",
    "    kfold = model_selection.KFold(n_splits=10, random_state=123)\n",
    "    scores = model_selection.cross_val_score(knn, X_trainK, y_trainK, cv=kfold, scoring='accuracy')\n",
    "    cv_scores.append(scores.mean()*100)\n",
    "    print(\"k=%d %0.2f (+/- %0.2f)\" % (k_value, scores.mean()*100, scores.std()*100))\n",
    "\n",
    "optimal_k = neighbors[cv_scores.index(max(cv_scores)) + 1]\n",
    "print (\"The optimal number of neighbors is %d with %0.1f%%\" % (optimal_k, cv_scores[optimal_k]))\n",
    "\n",
    "plt.plot(neighbors, cv_scores)\n",
    "plt.xlabel('Number of Neighbors K')\n",
    "plt.ylabel('Train Accuracy')\n",
    "plt.show()\n"
   ]
  },
  {
   "cell_type": "code",
   "execution_count": 95,
   "metadata": {},
   "outputs": [
    {
     "name": "stdout",
     "output_type": "stream",
     "text": [
      "Training Accuracy score :  100.0\n",
      "Confusion matrix : \n",
      " [[31995     0]\n",
      " [   38 31842]]\n",
      "Recall - train :  0.9988080301129235\n",
      "MCC :  0.9988108767263041\n",
      "\n",
      "Testing Accuracy score :  96.0\n",
      "Confusion matrix : \n",
      " [[7346  581]\n",
      " [  62 7980]]\n",
      "Recall - test :  0.9922904750062174\n",
      "MCC :  0.9213776331918462\n"
     ]
    }
   ],
   "source": [
    "knn = KNeighborsClassifier(n_neighbors=2)\n",
    "knn.fit(X_train, y_train)\n",
    "\n",
    "knnpred_train = knn.predict(X_train)\n",
    "knnpred_test = knn.predict(X_test)\n",
    "recall_train_knn = recall_score(y_train, knnpred_train)\n",
    "recall_test_knn = recall_score(y_test, knnpred_test)\n",
    "\n",
    "MCC_knn_train = MCC(confusion_matrix(y_train, knnpred_train))\n",
    "MCC_knn_test = MCC(confusion_matrix(y_test, knnpred_test))\n",
    "\n",
    "print(\"Training Accuracy score : \",round(accuracy_score(y_train, knnpred_train),2)*100)\n",
    "print(\"Confusion matrix : \\n\", confusion_matrix(y_train, knnpred_train))\n",
    "print(\"Recall - train : \", recall_train_knn)\n",
    "print(\"MCC : \", MCC_knn_train)\n",
    "\n",
    "print(\"\\nTesting Accuracy score : \",round(accuracy_score(y_test, knnpred_test),2)*100)\n",
    "print(\"Confusion matrix : \\n\", confusion_matrix(y_test, knnpred_test))\n",
    "print(\"Recall - test : \", recall_test_knn)\n",
    "print(\"MCC : \", MCC_knn_test)\n"
   ]
  },
  {
   "cell_type": "markdown",
   "metadata": {},
   "source": [
    "## SVC"
   ]
  },
  {
   "cell_type": "code",
   "execution_count": 96,
   "metadata": {},
   "outputs": [
    {
     "name": "stdout",
     "output_type": "stream",
     "text": [
      "Training Accuracy score :  87.0\n",
      "Confusion matrix : \n",
      " [[26610  5385]\n",
      " [ 2948 28932]]\n",
      "Recall - train :  0.9075282308657465\n",
      "MCC :  0.7412797620611195\n",
      "\n",
      "Testing Accuracy score :  86.0\n",
      "Confusion matrix : \n",
      " [[6531 1396]\n",
      " [ 760 7282]]\n",
      "Recall - test :  0.9054961452375031\n",
      "MCC :  0.7321370778470437\n"
     ]
    }
   ],
   "source": [
    "svc= SVC()\n",
    "svc.fit(X_train, y_train)\n",
    "\n",
    "svcpred_train = svc.predict(X_train)\n",
    "svcpred_test = svc.predict(X_test)\n",
    "recall_train_svc = recall_score(y_train, svcpred_train)\n",
    "recall_test_svc = recall_score(y_test, svcpred_test)\n",
    "\n",
    "MCC_svc_train = MCC(confusion_matrix(y_train, svcpred_train))\n",
    "MCC_svc_test = MCC(confusion_matrix(y_test, svcpred_test))\n",
    "\n",
    "print(\"Training Accuracy score : \",round(accuracy_score(y_train, svcpred_train),2)*100)\n",
    "print(\"Confusion matrix : \\n\", confusion_matrix(y_train, svcpred_train))\n",
    "print(\"Recall - train : \", recall_train_svc)\n",
    "print(\"MCC : \", MCC_svc_train)\n",
    "\n",
    "print(\"\\nTesting Accuracy score : \",round(accuracy_score(y_test, svcpred_test),2)*100)\n",
    "print(\"Confusion matrix : \\n\", confusion_matrix(y_test, svcpred_test))\n",
    "print(\"Recall - test : \", recall_test_svc)\n",
    "print(\"MCC : \", MCC_svc_test)\n",
    "\n"
   ]
  },
  {
   "cell_type": "markdown",
   "metadata": {},
   "source": [
    "## Decision Tree"
   ]
  },
  {
   "cell_type": "code",
   "execution_count": 97,
   "metadata": {},
   "outputs": [
    {
     "name": "stdout",
     "output_type": "stream",
     "text": [
      "Training Accuracy score :  100.0\n",
      "Confusion matrix : \n",
      " [[31995     0]\n",
      " [    0 31880]]\n",
      "Recall - train :  1.0\n",
      "MCC :  1.0\n",
      "\n",
      "Testing Accuracy score :  96.0\n",
      "Confusion matrix : \n",
      " [[7330  597]\n",
      " [   7 8035]]\n",
      "Recall - test :  0.9991295697587664\n",
      "MCC :  0.9268460437016247\n"
     ]
    }
   ],
   "source": [
    "dtree = DecisionTreeClassifier(criterion='gini') #criterion = entopy, gini\n",
    "dtree.fit(X_train, y_train)\n",
    "\n",
    "dtreepred_train = dtree.predict(X_train)\n",
    "dtreepred_test = dtree.predict(X_test)\n",
    "recall_train_dtree = recall_score(y_train, dtreepred_train)\n",
    "recall_test_dtree = recall_score(y_test, dtreepred_test)\n",
    "\n",
    "MCC_dtree_train = MCC(confusion_matrix(y_train, dtreepred_train))\n",
    "MCC_dtree_test = MCC(confusion_matrix(y_test, dtreepred_test))\n",
    "\n",
    "print(\"Training Accuracy score : \",round(accuracy_score(y_train, dtreepred_train),2)*100)\n",
    "print(\"Confusion matrix : \\n\", confusion_matrix(y_train, dtreepred_train))\n",
    "print(\"Recall - train : \", recall_train_dtree)\n",
    "print(\"MCC : \", MCC_dtree_train)\n",
    "\n",
    "print(\"\\nTesting Accuracy score : \",round(accuracy_score(y_test, dtreepred_test),2)*100)\n",
    "print(\"Confusion matrix : \\n\", confusion_matrix(y_test, dtreepred_test))\n",
    "print(\"Recall - test : \", recall_test_dtree)\n",
    "print(\"MCC : \", MCC_dtree_test)\n"
   ]
  },
  {
   "cell_type": "markdown",
   "metadata": {},
   "source": [
    "## Random Forest"
   ]
  },
  {
   "cell_type": "code",
   "execution_count": 196,
   "metadata": {
    "scrolled": true
   },
   "outputs": [
    {
     "name": "stdout",
     "output_type": "stream",
     "text": [
      "Training Accuracy score :  100.0\n",
      "Confusion matrix : \n",
      " [[31995     0]\n",
      " [    0 31880]]\n",
      "Recall - train :  1.0\n",
      "MCC :  1.0\n",
      "\n",
      "Testing Accuracy score :  97.0\n",
      "Confusion matrix : \n",
      " [[7429  498]\n",
      " [   5 8037]]\n",
      "Recall - test :  0.9993782641134046\n",
      "MCC :  0.9387646121959542\n"
     ]
    }
   ],
   "source": [
    "rfc = RandomForestClassifier(n_estimators = 200, random_state=42)\n",
    "rfc.fit(X_train, y_train)\n",
    "\n",
    "rfcpred_train = rfc.predict(X_train)\n",
    "rfcpred_test = rfc.predict(X_test)\n",
    "recall_train_rfc = recall_score(y_train, rfcpred_train)\n",
    "recall_test_rfc = recall_score(y_test, rfcpred_test)\n",
    "\n",
    "MCC_rfc_train = MCC(confusion_matrix(y_train, rfcpred_train))\n",
    "MCC_rfc_test = MCC(confusion_matrix(y_test, rfcpred_test))\n",
    "\n",
    "print(\"Training Accuracy score : \",round(accuracy_score(y_train, rfcpred_train),2)*100)\n",
    "print(\"Confusion matrix : \\n\", confusion_matrix(y_train, rfcpred_train))\n",
    "print(\"Recall - train : \", recall_train_rfc)\n",
    "print(\"MCC : \", MCC_rfc_train)\n",
    "\n",
    "print(\"\\nTesting Accuracy score : \",round(accuracy_score(y_test, rfcpred_test),2)*100)\n",
    "print(\"Confusion matrix : \\n\", confusion_matrix(y_test, rfcpred_test))\n",
    "print(\"Recall - test : \", recall_test_rfc)\n",
    "print(\"MCC : \", MCC_rfc_test)"
   ]
  },
  {
   "cell_type": "markdown",
   "metadata": {},
   "source": [
    "## Extreme Gradient Boosting"
   ]
  },
  {
   "cell_type": "code",
   "execution_count": 100,
   "metadata": {},
   "outputs": [
    {
     "name": "stdout",
     "output_type": "stream",
     "text": [
      "Training Accuracy score :  86.0\n",
      "Confusion matrix : \n",
      " [[26454  5541]\n",
      " [ 3400 28480]]\n",
      "Recall - train :  0.8933500627352572\n",
      "MCC :  0.7217029488244754\n",
      "\n",
      "Testing Accuracy score :  86.0\n",
      "Confusion matrix : \n",
      " [[6518 1409]\n",
      " [ 849 7193]]\n",
      "Recall - test :  0.8944292464561054\n",
      "MCC :  0.7188165895468238\n"
     ]
    }
   ],
   "source": [
    "xgb = XGBClassifier()\n",
    "xgb.fit(X_train, y_train)\n",
    "\n",
    "xgbpred_train = xgb.predict(X_train)\n",
    "xgbpred_test = xgb.predict(X_test)\n",
    "recall_train_xgb = recall_score(y_train, xgbpred_train)\n",
    "recall_test_xgb = recall_score(y_test, xgbpred_test)\n",
    "\n",
    "MCC_xgb_train = MCC(confusion_matrix(y_train, xgbpred_train))\n",
    "MCC_xgb_test = MCC(confusion_matrix(y_test, xgbpred_test))\n",
    "\n",
    "print(\"Training Accuracy score : \",round(accuracy_score(y_train, xgbpred_train),2)*100)\n",
    "print(\"Confusion matrix : \\n\", confusion_matrix(y_train, xgbpred_train))\n",
    "print(\"Recall - train : \", recall_train_xgb)\n",
    "print(\"MCC : \", MCC_xgb_train)\n",
    "\n",
    "print(\"\\nTesting Accuracy score : \",round(accuracy_score(y_test, xgbpred_test),2)*100)\n",
    "print(\"Confusion matrix : \\n\", confusion_matrix(y_test, xgbpred_test))\n",
    "print(\"Recall - test : \", recall_test_xgb)\n",
    "print(\"MCC : \", MCC_xgb_test)"
   ]
  },
  {
   "cell_type": "markdown",
   "metadata": {},
   "source": [
    "## Gradient Boosting Classifier"
   ]
  },
  {
   "cell_type": "code",
   "execution_count": 101,
   "metadata": {},
   "outputs": [
    {
     "name": "stdout",
     "output_type": "stream",
     "text": [
      "Training Accuracy score :  86.0\n",
      "Confusion matrix : \n",
      " [[26685  5310]\n",
      " [ 3427 28453]]\n",
      "Recall - train :  0.8925031367628607\n",
      "MCC :  0.7277282789428845\n",
      "\n",
      "Testing Accuracy score :  86.0\n",
      "Confusion matrix : \n",
      " [[6567 1360]\n",
      " [ 863 7179]]\n",
      "Recall - test :  0.8926883859736384\n",
      "MCC :  0.7228493706464747\n"
     ]
    }
   ],
   "source": [
    "gbk = GradientBoostingClassifier()\n",
    "gbk.fit(X_train, y_train)\n",
    "\n",
    "gbkpred_train = gbk.predict(X_train)\n",
    "gbkpred_test = gbk.predict(X_test)\n",
    "recall_train_gbk = recall_score(y_train, gbkpred_train)\n",
    "recall_test_gbk = recall_score(y_test, gbkpred_test)\n",
    "\n",
    "MCC_gbk_train = MCC(confusion_matrix(y_train, gbkpred_train))\n",
    "MCC_gbk_test = MCC(confusion_matrix(y_test, gbkpred_test))\n",
    "\n",
    "print(\"Training Accuracy score : \",round(accuracy_score(y_train, gbkpred_train),2)*100)\n",
    "print(\"Confusion matrix : \\n\", confusion_matrix(y_train, gbkpred_train))\n",
    "print(\"Recall - train : \", recall_train_gbk)\n",
    "print(\"MCC : \", MCC_gbk_train)\n",
    "\n",
    "print(\"\\nTesting Accuracy score : \",round(accuracy_score(y_test, gbkpred_test),2)*100)\n",
    "print(\"Confusion matrix : \\n\", confusion_matrix(y_test, gbkpred_test))\n",
    "print(\"Recall - test : \", recall_test_gbk)\n",
    "print(\"MCC : \", MCC_gbk_test)"
   ]
  },
  {
   "cell_type": "code",
   "execution_count": 197,
   "metadata": {},
   "outputs": [
    {
     "data": {
      "text/html": [
       "<div>\n",
       "<style scoped>\n",
       "    .dataframe tbody tr th:only-of-type {\n",
       "        vertical-align: middle;\n",
       "    }\n",
       "\n",
       "    .dataframe tbody tr th {\n",
       "        vertical-align: top;\n",
       "    }\n",
       "\n",
       "    .dataframe thead th {\n",
       "        text-align: right;\n",
       "    }\n",
       "</style>\n",
       "<table border=\"1\" class=\"dataframe\">\n",
       "  <thead>\n",
       "    <tr style=\"text-align: right;\">\n",
       "      <th></th>\n",
       "      <th>Models</th>\n",
       "      <th>MCC</th>\n",
       "    </tr>\n",
       "  </thead>\n",
       "  <tbody>\n",
       "    <tr>\n",
       "      <td>0</td>\n",
       "      <td>Random Forest Classifier</td>\n",
       "      <td>0.938765</td>\n",
       "    </tr>\n",
       "    <tr>\n",
       "      <td>1</td>\n",
       "      <td>Decision Tree Classifier</td>\n",
       "      <td>0.926846</td>\n",
       "    </tr>\n",
       "    <tr>\n",
       "      <td>3</td>\n",
       "      <td>K-Near Neighbors</td>\n",
       "      <td>0.921378</td>\n",
       "    </tr>\n",
       "    <tr>\n",
       "      <td>2</td>\n",
       "      <td>Support Vector Machine</td>\n",
       "      <td>0.732137</td>\n",
       "    </tr>\n",
       "    <tr>\n",
       "      <td>6</td>\n",
       "      <td>Gradient Boosting</td>\n",
       "      <td>0.722849</td>\n",
       "    </tr>\n",
       "    <tr>\n",
       "      <td>5</td>\n",
       "      <td>XGBoost</td>\n",
       "      <td>0.718817</td>\n",
       "    </tr>\n",
       "    <tr>\n",
       "      <td>4</td>\n",
       "      <td>Logistic Model</td>\n",
       "      <td>0.607161</td>\n",
       "    </tr>\n",
       "  </tbody>\n",
       "</table>\n",
       "</div>"
      ],
      "text/plain": [
       "                     Models       MCC\n",
       "0  Random Forest Classifier  0.938765\n",
       "1  Decision Tree Classifier  0.926846\n",
       "3          K-Near Neighbors  0.921378\n",
       "2    Support Vector Machine  0.732137\n",
       "6         Gradient Boosting  0.722849\n",
       "5                   XGBoost  0.718817\n",
       "4            Logistic Model  0.607161"
      ]
     },
     "execution_count": 197,
     "metadata": {},
     "output_type": "execute_result"
    }
   ],
   "source": [
    "models_upsampled_MCC = pd.DataFrame({\n",
    "                'Models': ['Random Forest Classifier', 'Decision Tree Classifier', 'Support Vector Machine',\n",
    "                           'K-Near Neighbors', 'Logistic Model', 'XGBoost', 'Gradient Boosting'],\n",
    "                'MCC':  [MCC_rfc_test, MCC_dtree_test, MCC_svc_test, MCC_knn_test, MCC_logcv_test, MCC_xgb_test, MCC_gbk_test]})\n",
    "\n",
    "models_upsampled_MCC.sort_values(by='MCC', ascending=False)"
   ]
  },
  {
   "cell_type": "code",
   "execution_count": null,
   "metadata": {},
   "outputs": [],
   "source": []
  },
  {
   "cell_type": "code",
   "execution_count": null,
   "metadata": {},
   "outputs": [],
   "source": []
  },
  {
   "cell_type": "markdown",
   "metadata": {},
   "source": [
    "# Hyperparameter Tuning the selected model - Random Forest classifier"
   ]
  },
  {
   "cell_type": "code",
   "execution_count": 165,
   "metadata": {},
   "outputs": [
    {
     "name": "stdout",
     "output_type": "stream",
     "text": [
      "{'bootstrap': False, 'ccp_alpha': 0.0, 'class_weight': None, 'criterion': 'gini', 'max_depth': 110, 'max_features': 6, 'max_leaf_nodes': None, 'max_samples': None, 'min_impurity_decrease': 0.0, 'min_impurity_split': None, 'min_samples_leaf': 1, 'min_samples_split': 5, 'min_weight_fraction_leaf': 0.0, 'n_estimators': 600, 'n_jobs': None, 'oob_score': False, 'random_state': None, 'verbose': 0, 'warm_start': False}\n"
     ]
    }
   ],
   "source": [
    "print(rfc.get_params())"
   ]
  },
  {
   "cell_type": "code",
   "execution_count": 166,
   "metadata": {},
   "outputs": [
    {
     "name": "stdout",
     "output_type": "stream",
     "text": [
      "{'n_estimators': [200, 400, 600, 800, 1000, 1200, 1400, 1600, 1800, 2000], 'max_features': ['auto', 'sqrt', None, 1, 2, 3, 4, 5, 6, 7, 8, 7, 8, 9, 10, 11, 12, 13, 14, 15, 16], 'max_depth': [10, 20, 30, 40, 50, 60, 70, 80, 90, 100, 110, None], 'min_samples_split': [1, 2, 5, 10], 'min_samples_leaf': [1, 2, 4], 'bootstrap': [True, False]}\n"
     ]
    }
   ],
   "source": [
    "from sklearn.model_selection import RandomizedSearchCV\n",
    "# Number of trees in random forest\n",
    "n_estimators = [int(x) for x in np.linspace(start = 200, stop = 2000, num = 10)]\n",
    "# Number of features to consider at every split\n",
    "max_features = ['auto', 'sqrt', None, 1, 2, 3, 4, 5, 6, 7, 8, 7, 8, 9, 10, 11, 12, 13, 14, 15, 16]\n",
    "# Maximum number of levels in tree\n",
    "max_depth = [int(x) for x in np.linspace(10, 110, num = 11)]\n",
    "max_depth.append(None)\n",
    "# Minimum number of samples required to split a node\n",
    "min_samples_split = [1, 2, 5, 10]\n",
    "# Minimum number of samples required at each leaf node\n",
    "min_samples_leaf = [1, 2, 4]\n",
    "# Method of selecting samples for training each tree\n",
    "bootstrap = [True, False]\n",
    "# Create the random grid\n",
    "random_grid = {'n_estimators': n_estimators,\n",
    "               'max_features': max_features,\n",
    "               'max_depth': max_depth,\n",
    "               'min_samples_split': min_samples_split,\n",
    "               'min_samples_leaf': min_samples_leaf,\n",
    "               'bootstrap': bootstrap}\n",
    "print(random_grid)\n"
   ]
  },
  {
   "cell_type": "code",
   "execution_count": 167,
   "metadata": {},
   "outputs": [
    {
     "name": "stdout",
     "output_type": "stream",
     "text": [
      "Fitting 10 folds for each of 10 candidates, totalling 100 fits\n"
     ]
    },
    {
     "name": "stderr",
     "output_type": "stream",
     "text": [
      "[Parallel(n_jobs=-1)]: Using backend LokyBackend with 8 concurrent workers.\n",
      "[Parallel(n_jobs=-1)]: Done  25 tasks      | elapsed:  5.3min\n",
      "[Parallel(n_jobs=-1)]: Done 100 out of 100 | elapsed: 44.8min finished\n"
     ]
    },
    {
     "data": {
      "text/plain": [
       "RandomizedSearchCV(cv=StratifiedKFold(n_splits=10, random_state=0, shuffle=True),\n",
       "                   estimator=RandomForestClassifier(), n_jobs=-1,\n",
       "                   param_distributions={'bootstrap': [True, False],\n",
       "                                        'max_depth': [10, 20, 30, 40, 50, 60,\n",
       "                                                      70, 80, 90, 100, 110,\n",
       "                                                      None],\n",
       "                                        'max_features': ['auto', 'sqrt', None,\n",
       "                                                         1, 2, 3, 4, 5, 6, 7, 8,\n",
       "                                                         7, 8, 9, 10, 11, 12,\n",
       "                                                         13, 14, 15, 16],\n",
       "                                        'min_samples_leaf': [1, 2, 4],\n",
       "                                        'min_samples_split': [1, 2, 5, 10],\n",
       "                                        'n_estimators': [200, 400, 600, 800,\n",
       "                                                         1000, 1200, 1400, 1600,\n",
       "                                                         1800, 2000]},\n",
       "                   random_state=42, verbose=2)"
      ]
     },
     "execution_count": 167,
     "metadata": {},
     "output_type": "execute_result"
    }
   ],
   "source": [
    "# Use the random grid to search for best hyperparameters\n",
    "# First create the base model to tune\n",
    "rfc = RandomForestClassifier()\n",
    "# Random search of parameters, using 3 fold cross validation, \n",
    "# search across 100 different combinations, and use all available cores\n",
    "rfc_random = RandomizedSearchCV(estimator = rfc, param_distributions = random_grid, cv = k_fold, verbose=2, random_state=42, n_jobs = -1)\n",
    "# Fit the random search model\n",
    "rfc_random.fit(X_train, y_train)"
   ]
  },
  {
   "cell_type": "code",
   "execution_count": 168,
   "metadata": {},
   "outputs": [
    {
     "data": {
      "text/plain": [
       "{'n_estimators': 600,\n",
       " 'min_samples_split': 5,\n",
       " 'min_samples_leaf': 1,\n",
       " 'max_features': 6,\n",
       " 'max_depth': 110,\n",
       " 'bootstrap': False}"
      ]
     },
     "execution_count": 168,
     "metadata": {},
     "output_type": "execute_result"
    }
   ],
   "source": [
    "rfc_random.best_params_"
   ]
  },
  {
   "cell_type": "code",
   "execution_count": 282,
   "metadata": {},
   "outputs": [
    {
     "name": "stdout",
     "output_type": "stream",
     "text": [
      "Training Accuracy score :  100.0\n",
      "Confusion matrix : \n",
      " [[31995     0]\n",
      " [    0 31880]]\n",
      "Recall - train :  1.0\n",
      "MCC :  1.0\n",
      "\n",
      "Testing Accuracy score :  97.0\n",
      "Confusion matrix : \n",
      " [[7429  498]\n",
      " [   5 8037]]\n",
      "Recall - test :  0.9985078338721711\n",
      "MCC :  0.9570689424836879\n"
     ]
    }
   ],
   "source": [
    "clf = RandomForestClassifier(n_estimators= 600, min_samples_split= 5, min_samples_leaf= 1, max_features= 6, max_depth= 110,bootstrap= False, random_state=21)\n",
    "clf.fit(X_train, y_train)\n",
    "\n",
    "clfpred_train = clf.predict(X_train)\n",
    "clfpred_test = clf.predict(X_test)\n",
    "recall_train_clf = recall_score(y_train, clfpred_train)\n",
    "recall_test_clf = recall_score(y_test, clfpred_test)\n",
    "\n",
    "MCC_clf_train = MCC(confusion_matrix(y_train, clfpred_train))\n",
    "MCC_clf_test = MCC(confusion_matrix(y_test, clfpred_test))\n",
    "\n",
    "print(\"Training Accuracy score : \",round(accuracy_score(y_train, clfpred_train),2)*100)\n",
    "print(\"Confusion matrix : \\n\", confusion_matrix(y_train, clfpred_train))\n",
    "print(\"Recall - train : \", recall_train_clf)\n",
    "print(\"MCC : \", MCC_clf_train)\n",
    "\n",
    "print(\"\\nTesting Accuracy score : \",round(accuracy_score(y_test, rfcpred_test),2)*100)\n",
    "print(\"Confusion matrix : \\n\", confusion_matrix(y_test, rfcpred_test))\n",
    "print(\"Recall - test : \", recall_test_clf)\n",
    "print(\"MCC : \", MCC_clf_test)"
   ]
  },
  {
   "cell_type": "markdown",
   "metadata": {},
   "source": [
    "## Feature importance"
   ]
  },
  {
   "cell_type": "code",
   "execution_count": 286,
   "metadata": {},
   "outputs": [
    {
     "name": "stdout",
     "output_type": "stream",
     "text": [
      "Feature ranking:\n",
      "1. duration (0.377380)\n",
      "2. month (0.093367)\n",
      "3. balance (0.080536)\n",
      "4. day (0.079866)\n",
      "5. age (0.070980)\n",
      "6. poutcome (0.055634)\n",
      "7. contact (0.048550)\n",
      "8. pdays (0.038927)\n",
      "9. housing (0.034274)\n",
      "10. job (0.032401)\n",
      "11. campaign (0.028812)\n",
      "12. previous (0.018311)\n",
      "13. education (0.017761)\n",
      "14. marital (0.012864)\n",
      "15. loan (0.009240)\n",
      "16. default (0.001098)\n"
     ]
    },
    {
     "data": {
      "image/png": "[encoded data removed]",
      "text/plain": [
       "<Figure size 432x288 with 1 Axes>"
      ]
     },
     "metadata": {
      "needs_background": "light"
     },
     "output_type": "display_data"
    }
   ],
   "source": [
    "importances = clf.feature_importances_\n",
    "indices = np.argsort(importances)[::-1]\n",
    "# Print the feature ranking\n",
    "print(\"Feature ranking:\")\n",
    "\n",
    "for f in range(X.shape[1]):\n",
    "    print(\"%d. %s (%f)\" % (f + 1, X.columns[indices[f]], importances[indices[f]]))\n",
    "\n",
    "# Plot the impurity-based feature importances of the forest\n",
    "plt.figure()\n",
    "plt.title(\"Feature importances\")\n",
    "plt.bar(X.columns[indices], importances[indices],\n",
    "        color=\"r\", align=\"center\")\n",
    "plt.xticks(X.columns[indices],  rotation='vertical')\n",
    "plt.xlim([-1, X.shape[1]])\n",
    "plt.show()"
   ]
  },
  {
   "cell_type": "markdown",
   "metadata": {},
   "source": [
    "## New data for prediction"
   ]
  },
  {
   "cell_type": "code",
   "execution_count": 287,
   "metadata": {},
   "outputs": [],
   "source": [
    "new_data = pd.read_csv('bank/bank.csv', delimiter = ';')"
   ]
  },
  {
   "cell_type": "markdown",
   "metadata": {},
   "source": [
    "### Treating categorical columns of new data"
   ]
  },
  {
   "cell_type": "code",
   "execution_count": 288,
   "metadata": {},
   "outputs": [],
   "source": [
    "new_data_cat = new_data.copy()\n",
    "\n",
    "new_data_cat['job'].replace(['management', 'technician', 'entrepreneur', 'blue-collar' , 'unknown' , 'retired' , 'admin.' , 'services' , 'self-employed', 'unemployed', 'housemaid' , 'student'] , [0, 1, 2, 3, 4, 5, 6, 7, 8, 9, 10, 11], inplace=True)\n",
    "\n",
    "new_data_cat['education'].replace(['tertiary', 'secondary', 'unknown', 'primary'], [0, 1, 2, 3], inplace=True)\n",
    "\n",
    "new_data_cat['marital'].replace(['married', 'single', 'divorced'], [0, 1, 2], inplace=True)\n",
    "\n",
    "new_data_cat['default'].replace(['no', 'yes'],[0, 1], inplace=True)\n",
    "\n",
    "new_data_cat['housing'].replace(['no', 'yes'],[0, 1], inplace=True)\n",
    "\n",
    "new_data_cat['loan'].replace(['no', 'yes'],[0, 1], inplace=True)\n",
    "\n",
    "new_data_cat['contact'].replace(['unknown', 'cellular', 'telephone'],[0, 1, 2], inplace=True)\n",
    "\n",
    "new_data_cat['month'].replace(['jan', 'feb', 'mar', 'apr', 'may', 'jun', 'jul', 'aug', 'sep', 'oct', 'nov', 'dec'],[1, 2, 3, 4, 5, 6, 7, 8, 9, 10, 11, 12], inplace=True)\n",
    "\n",
    "new_data_cat['poutcome'] = new_data_cat['poutcome'].replace(['other'] , 'unknown')\n",
    "new_data_cat['poutcome'].replace(['unknown', 'failure', 'success'],[0, 1, 2], inplace=True)\n",
    "\n",
    "new_data_cat['y'].replace(['no', 'yes'],[0, 1], inplace=True)\n",
    "\n",
    "X_new = new_data_cat.iloc[:,:16]\n",
    "y_new = new_data_cat.iloc[:,16]"
   ]
  },
  {
   "cell_type": "code",
   "execution_count": null,
   "metadata": {},
   "outputs": [],
   "source": []
  },
  {
   "cell_type": "code",
   "execution_count": 289,
   "metadata": {},
   "outputs": [],
   "source": [
    "X_new = sc_X.transform(X_new)"
   ]
  },
  {
   "cell_type": "code",
   "execution_count": 290,
   "metadata": {},
   "outputs": [
    {
     "name": "stdout",
     "output_type": "stream",
     "text": [
      "Training Accuracy score :  0.988940499889405\n",
      "Confusion matrix : \n",
      " [[3951   49]\n",
      " [   1  520]]\n",
      "MCC :  0.9490444567535449\n"
     ]
    }
   ],
   "source": [
    "y_pred = clf.predict(X_new)\n",
    "MCC_rfc_new = MCC(confusion_matrix(y_new, y_pred))\n",
    "\n",
    "print(\"Training Accuracy score : \",accuracy_score(y_new, y_pred))\n",
    "print(\"Confusion matrix : \\n\", confusion_matrix(y_new, y_pred))\n",
    "print(\"MCC : \", MCC_rfc_new)"
   ]
  },
  {
   "cell_type": "code",
   "execution_count": null,
   "metadata": {},
   "outputs": [],
   "source": []
  },
  {
   "cell_type": "code",
   "execution_count": null,
   "metadata": {},
   "outputs": [],
   "source": []
  },
  {
   "cell_type": "code",
   "execution_count": null,
   "metadata": {},
   "outputs": [],
   "source": []
  },
  {
   "cell_type": "code",
   "execution_count": null,
   "metadata": {},
   "outputs": [],
   "source": []
  },
  {
   "cell_type": "code",
   "execution_count": null,
   "metadata": {},
   "outputs": [],
   "source": []
  },
  {
   "cell_type": "code",
   "execution_count": null,
   "metadata": {},
   "outputs": [],
   "source": []
  },
  {
   "cell_type": "code",
   "execution_count": null,
   "metadata": {},
   "outputs": [],
   "source": []
  },
  {
   "cell_type": "code",
   "execution_count": null,
   "metadata": {},
   "outputs": [],
   "source": []
  }
 ],
 "metadata": {
  "kernelspec": {
   "display_name": "Python 3",
   "language": "python",
   "name": "python3"
  },
  "language_info": {
   "codemirror_mode": {
    "name": "ipython",
    "version": 3
   },
   "file_extension": ".py",
   "mimetype": "text/x-python",
   "name": "python",
   "nbconvert_exporter": "python",
   "pygments_lexer": "ipython3",
   "version": "3.7.4"
  }
 },
 "nbformat": 4,
 "nbformat_minor": 2
}
